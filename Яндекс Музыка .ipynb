{
 "cells": [
  {
   "cell_type": "markdown",
   "metadata": {
    "deletable": false,
    "editable": false,
    "id": "E0vqbgi9ay0H",
    "pycharm": {
     "name": "#%% md\n"
    }
   },
   "source": [
    "# Яндекс Музыка"
   ]
  },
  {
   "cell_type": "markdown",
   "metadata": {
    "deletable": false,
    "editable": false,
    "id": "VUC88oWjTJw2",
    "pycharm": {
     "name": "#%% md\n"
    }
   },
   "source": [
    "Сравнение Москвы и Петербурга окружено мифами. Например:\n",
    " * Москва — мегаполис, подчинённый жёсткому ритму рабочей недели;\n",
    " * Петербург — культурная столица, со своими вкусами.\n",
    "\n",
    "На данных Яндекс Музыки вы сравните поведение пользователей двух столиц.\n",
    "\n",
    "**Цель исследования** — проверьте три гипотезы:\n",
    "1. Активность пользователей зависит от дня недели. Причём в Москве и Петербурге это проявляется по-разному.\n",
    "2. В понедельник утром в Москве преобладают одни жанры, а в Петербурге — другие. Так же и вечером пятницы преобладают разные жанры — в зависимости от города. \n",
    "3. Москва и Петербург предпочитают разные жанры музыки. В Москве чаще слушают поп-музыку, в Петербурге — русский рэп.\n",
    "\n",
    "**Ход исследования**\n",
    "\n",
    "Данные о поведении пользователей вы получите из файла `yandex_music_project.csv`. О качестве данных ничего не известно. Поэтому перед проверкой гипотез понадобится обзор данных. \n",
    "\n",
    "Вы проверите данные на ошибки и оцените их влияние на исследование. Затем, на этапе предобработки вы поищете возможность исправить самые критичные ошибки данных.\n",
    " \n",
    "Таким образом, исследование пройдёт в три этапа:\n",
    " 1. Обзор данных.\n",
    " 2. Предобработка данных.\n",
    " 3. Проверка гипотез.\n",
    "\n"
   ]
  },
  {
   "cell_type": "markdown",
   "metadata": {
    "deletable": false,
    "editable": false,
    "id": "Ml1hmfXC_Zcs",
    "pycharm": {
     "name": "#%% md\n"
    }
   },
   "source": [
    "## Обзор данных\n",
    "\n",
    "Составьте первое представление о данных Яндекс Музыки.\n",
    "\n",
    "\n"
   ]
  },
  {
   "cell_type": "markdown",
   "metadata": {
    "deletable": false,
    "editable": false,
    "id": "57eAOGIz_Zcs",
    "tags": [
     "start_task"
    ],
    "pycharm": {
     "name": "#%% md\n"
    }
   },
   "source": [
    "**Задание 1**\n",
    "\n",
    "Основной инструмент аналитика — `pandas`. Импортируйте эту библиотеку."
   ]
  },
  {
   "cell_type": "code",
   "execution_count": 161,
   "metadata": {
    "deletable": false,
    "id": "AXN7PHPN_Zcs",
    "pycharm": {
     "name": "#%%\n"
    }
   },
   "outputs": [],
   "source": [
    "# импорт библиотеки pandas\n",
    "import pandas as pd"
   ]
  },
  {
   "cell_type": "markdown",
   "metadata": {
    "deletable": false,
    "editable": false,
    "id": "SG23P8tt_Zcs",
    "tags": [
     "start_task"
    ],
    "pycharm": {
     "name": "#%% md\n"
    }
   },
   "source": [
    "**Задание 2**\n",
    "\n",
    "Прочитайте файл `yandex_music_project.csv` из папки `/datasets` и сохраните его в переменной `df`:"
   ]
  },
  {
   "cell_type": "code",
   "execution_count": 162,
   "metadata": {
    "deletable": false,
    "id": "fFVu7vqh_Zct",
    "scrolled": true,
    "pycharm": {
     "name": "#%%\n"
    }
   },
   "outputs": [],
   "source": [
    "# чтение файла с данными и сохранение в df\n",
    "df = pd.read_csv('/datasets/yandex_music_project.csv')"
   ]
  },
  {
   "cell_type": "markdown",
   "metadata": {
    "deletable": false,
    "editable": false,
    "id": "rDoOMd3uTqnZ",
    "tags": [
     "start_task"
    ],
    "pycharm": {
     "name": "#%% md\n"
    }
   },
   "source": [
    "**Задание 3**\n",
    "\n",
    "\n",
    "Выведите на экран первые десять строк таблицы:"
   ]
  },
  {
   "cell_type": "code",
   "execution_count": 163,
   "metadata": {
    "deletable": false,
    "id": "oWTVX3gW_Zct",
    "pycharm": {
     "name": "#%%\n"
    }
   },
   "outputs": [
    {
     "data": {
      "text/html": [
       "<div>\n",
       "<style scoped>\n",
       "    .dataframe tbody tr th:only-of-type {\n",
       "        vertical-align: middle;\n",
       "    }\n",
       "\n",
       "    .dataframe tbody tr th {\n",
       "        vertical-align: top;\n",
       "    }\n",
       "\n",
       "    .dataframe thead th {\n",
       "        text-align: right;\n",
       "    }\n",
       "</style>\n",
       "<table border=\"1\" class=\"dataframe\">\n",
       "  <thead>\n",
       "    <tr style=\"text-align: right;\">\n",
       "      <th></th>\n",
       "      <th>userID</th>\n",
       "      <th>Track</th>\n",
       "      <th>artist</th>\n",
       "      <th>genre</th>\n",
       "      <th>City</th>\n",
       "      <th>time</th>\n",
       "      <th>Day</th>\n",
       "    </tr>\n",
       "  </thead>\n",
       "  <tbody>\n",
       "    <tr>\n",
       "      <th>0</th>\n",
       "      <td>FFB692EC</td>\n",
       "      <td>Kamigata To Boots</td>\n",
       "      <td>The Mass Missile</td>\n",
       "      <td>rock</td>\n",
       "      <td>Saint-Petersburg</td>\n",
       "      <td>20:28:33</td>\n",
       "      <td>Wednesday</td>\n",
       "    </tr>\n",
       "    <tr>\n",
       "      <th>1</th>\n",
       "      <td>55204538</td>\n",
       "      <td>Delayed Because of Accident</td>\n",
       "      <td>Andreas Rönnberg</td>\n",
       "      <td>rock</td>\n",
       "      <td>Moscow</td>\n",
       "      <td>14:07:09</td>\n",
       "      <td>Friday</td>\n",
       "    </tr>\n",
       "    <tr>\n",
       "      <th>2</th>\n",
       "      <td>20EC38</td>\n",
       "      <td>Funiculì funiculà</td>\n",
       "      <td>Mario Lanza</td>\n",
       "      <td>pop</td>\n",
       "      <td>Saint-Petersburg</td>\n",
       "      <td>20:58:07</td>\n",
       "      <td>Wednesday</td>\n",
       "    </tr>\n",
       "    <tr>\n",
       "      <th>3</th>\n",
       "      <td>A3DD03C9</td>\n",
       "      <td>Dragons in the Sunset</td>\n",
       "      <td>Fire + Ice</td>\n",
       "      <td>folk</td>\n",
       "      <td>Saint-Petersburg</td>\n",
       "      <td>08:37:09</td>\n",
       "      <td>Monday</td>\n",
       "    </tr>\n",
       "    <tr>\n",
       "      <th>4</th>\n",
       "      <td>E2DC1FAE</td>\n",
       "      <td>Soul People</td>\n",
       "      <td>Space Echo</td>\n",
       "      <td>dance</td>\n",
       "      <td>Moscow</td>\n",
       "      <td>08:34:34</td>\n",
       "      <td>Monday</td>\n",
       "    </tr>\n",
       "    <tr>\n",
       "      <th>5</th>\n",
       "      <td>842029A1</td>\n",
       "      <td>Преданная</td>\n",
       "      <td>IMPERVTOR</td>\n",
       "      <td>rusrap</td>\n",
       "      <td>Saint-Petersburg</td>\n",
       "      <td>13:09:41</td>\n",
       "      <td>Friday</td>\n",
       "    </tr>\n",
       "    <tr>\n",
       "      <th>6</th>\n",
       "      <td>4CB90AA5</td>\n",
       "      <td>True</td>\n",
       "      <td>Roman Messer</td>\n",
       "      <td>dance</td>\n",
       "      <td>Moscow</td>\n",
       "      <td>13:00:07</td>\n",
       "      <td>Wednesday</td>\n",
       "    </tr>\n",
       "    <tr>\n",
       "      <th>7</th>\n",
       "      <td>F03E1C1F</td>\n",
       "      <td>Feeling This Way</td>\n",
       "      <td>Polina Griffith</td>\n",
       "      <td>dance</td>\n",
       "      <td>Moscow</td>\n",
       "      <td>20:47:49</td>\n",
       "      <td>Wednesday</td>\n",
       "    </tr>\n",
       "    <tr>\n",
       "      <th>8</th>\n",
       "      <td>8FA1D3BE</td>\n",
       "      <td>И вновь продолжается бой</td>\n",
       "      <td>NaN</td>\n",
       "      <td>ruspop</td>\n",
       "      <td>Moscow</td>\n",
       "      <td>09:17:40</td>\n",
       "      <td>Friday</td>\n",
       "    </tr>\n",
       "    <tr>\n",
       "      <th>9</th>\n",
       "      <td>E772D5C0</td>\n",
       "      <td>Pessimist</td>\n",
       "      <td>NaN</td>\n",
       "      <td>dance</td>\n",
       "      <td>Saint-Petersburg</td>\n",
       "      <td>21:20:49</td>\n",
       "      <td>Wednesday</td>\n",
       "    </tr>\n",
       "  </tbody>\n",
       "</table>\n",
       "</div>"
      ],
      "text/plain": [
       "     userID                        Track            artist   genre  \\\n",
       "0  FFB692EC            Kamigata To Boots  The Mass Missile    rock   \n",
       "1  55204538  Delayed Because of Accident  Andreas Rönnberg    rock   \n",
       "2    20EC38            Funiculì funiculà       Mario Lanza     pop   \n",
       "3  A3DD03C9        Dragons in the Sunset        Fire + Ice    folk   \n",
       "4  E2DC1FAE                  Soul People        Space Echo   dance   \n",
       "5  842029A1                    Преданная         IMPERVTOR  rusrap   \n",
       "6  4CB90AA5                         True      Roman Messer   dance   \n",
       "7  F03E1C1F             Feeling This Way   Polina Griffith   dance   \n",
       "8  8FA1D3BE     И вновь продолжается бой               NaN  ruspop   \n",
       "9  E772D5C0                    Pessimist               NaN   dance   \n",
       "\n",
       "             City        time        Day  \n",
       "0  Saint-Petersburg  20:28:33  Wednesday  \n",
       "1            Moscow  14:07:09     Friday  \n",
       "2  Saint-Petersburg  20:58:07  Wednesday  \n",
       "3  Saint-Petersburg  08:37:09     Monday  \n",
       "4            Moscow  08:34:34     Monday  \n",
       "5  Saint-Petersburg  13:09:41     Friday  \n",
       "6            Moscow  13:00:07  Wednesday  \n",
       "7            Moscow  20:47:49  Wednesday  \n",
       "8            Moscow  09:17:40     Friday  \n",
       "9  Saint-Petersburg  21:20:49  Wednesday  "
      ]
     },
     "execution_count": 163,
     "metadata": {},
     "output_type": "execute_result"
    }
   ],
   "source": [
    "# получение первых 10 строк таблицы df\n",
    "df.head(10)"
   ]
  },
  {
   "cell_type": "markdown",
   "metadata": {
    "deletable": false,
    "editable": false,
    "id": "EO73Kwic_Zct",
    "tags": [
     "start_task"
    ],
    "pycharm": {
     "name": "#%% md\n"
    }
   },
   "source": [
    "**Задание 4**\n",
    "\n",
    "\n",
    "Одной командой получить общую информацию о таблице c помощью метода `info()`:"
   ]
  },
  {
   "cell_type": "code",
   "execution_count": 164,
   "metadata": {
    "deletable": false,
    "id": "DSf2kIb-_Zct",
    "pycharm": {
     "name": "#%%\n"
    }
   },
   "outputs": [
    {
     "name": "stdout",
     "output_type": "stream",
     "text": [
      "<class 'pandas.core.frame.DataFrame'>\n",
      "RangeIndex: 65079 entries, 0 to 65078\n",
      "Data columns (total 7 columns):\n",
      " #   Column    Non-Null Count  Dtype \n",
      "---  ------    --------------  ----- \n",
      " 0     userID  65079 non-null  object\n",
      " 1   Track     63848 non-null  object\n",
      " 2   artist    57876 non-null  object\n",
      " 3   genre     63881 non-null  object\n",
      " 4     City    65079 non-null  object\n",
      " 5   time      65079 non-null  object\n",
      " 6   Day       65079 non-null  object\n",
      "dtypes: object(7)\n",
      "memory usage: 3.5+ MB\n"
     ]
    }
   ],
   "source": [
    "# получение общей информации о данных в таблице df\n",
    "df.info()"
   ]
  },
  {
   "cell_type": "markdown",
   "metadata": {
    "deletable": false,
    "editable": false,
    "id": "TaQ2Iwbr_Zct",
    "pycharm": {
     "name": "#%% md\n"
    }
   },
   "source": [
    "Итак, в таблице семь столбцов. Тип данных во всех столбцах — `object`.\n",
    "\n",
    "Согласно документации к данным:\n",
    "* `userID` — идентификатор пользователя;\n",
    "* `Track` — название трека;  \n",
    "* `artist` — имя исполнителя;\n",
    "* `genre` — название жанра;\n",
    "* `City` — город пользователя;\n",
    "* `time` — время начала прослушивания;\n",
    "* `Day` — день недели.\n",
    "\n",
    "Количество значений в столбцах различается. Значит, в данных есть пропущенные значения."
   ]
  },
  {
   "cell_type": "markdown",
   "metadata": {
    "deletable": false,
    "editable": false,
    "id": "rAfziTBDmf2h",
    "tags": [
     "start_task"
    ],
    "pycharm": {
     "name": "#%% md\n"
    }
   },
   "source": [
    "**Задание 5**\n",
    "\n",
    "**Вопрос со свободной формой ответа**\n",
    "\n",
    "В названиях колонок видны нарушения стиля:\n",
    "* Строчные буквы сочетаются с прописными.\n",
    "* Встречаются пробелы.\n",
    "\n",
    "Какое третье нарушение?"
   ]
  },
  {
   "cell_type": "code",
   "execution_count": 165,
   "metadata": {
    "id": "jD8EXEIvmf2h",
    "pycharm": {
     "name": "#%%\n"
    }
   },
   "outputs": [],
   "source": [
    "# Напишите ваш ответ здесь комментарием. Не удаляйте символ #. Не меняйте тип этой ячейки на Markdown.\n",
    "# не используется snake_case"
   ]
  },
  {
   "cell_type": "markdown",
   "metadata": {
    "deletable": false,
    "editable": false,
    "id": "MCB6-dXG_Zct",
    "pycharm": {
     "name": "#%% md\n"
    }
   },
   "source": [
    "**Выводы**\n",
    "\n",
    "В каждой строке таблицы — данные о прослушанном треке. Часть колонок описывает саму композицию: название, исполнителя и жанр. Остальные данные рассказывают о пользователе: из какого он города, когда он слушал музыку. \n",
    "\n",
    "Предварительно можно утверждать, что данных достаточно для проверки гипотез. Но встречаются пропуски в данных, а в названиях колонок — расхождения с хорошим стилем.\n",
    "\n",
    "Чтобы двигаться дальше, нужно устранить проблемы в данных."
   ]
  },
  {
   "cell_type": "markdown",
   "metadata": {
    "deletable": false,
    "editable": false,
    "id": "SjYF6Ub9_Zct",
    "pycharm": {
     "name": "#%% md\n"
    }
   },
   "source": [
    "## Предобработка данных\n",
    "Исправьте стиль в заголовках столбцов, исключите пропуски. Затем проверьте данные на дубликаты."
   ]
  },
  {
   "cell_type": "markdown",
   "metadata": {
    "deletable": false,
    "editable": false,
    "id": "dIaKXr29_Zct",
    "tags": [
     "start_task"
    ],
    "pycharm": {
     "name": "#%% md\n"
    }
   },
   "source": [
    "### Стиль заголовков\n",
    "\n",
    "**Задание 6**\n",
    "\n",
    "Выведите на экран названия столбцов:"
   ]
  },
  {
   "cell_type": "code",
   "execution_count": 166,
   "metadata": {
    "deletable": false,
    "id": "oKOTdF_Q_Zct",
    "pycharm": {
     "name": "#%%\n"
    }
   },
   "outputs": [
    {
     "data": {
      "text/plain": [
       "Index(['  userID', 'Track', 'artist', 'genre', '  City  ', 'time', 'Day'], dtype='object')"
      ]
     },
     "execution_count": 166,
     "metadata": {},
     "output_type": "execute_result"
    }
   ],
   "source": [
    "# перечень названий столбцов таблицы df\n",
    "df.columns"
   ]
  },
  {
   "cell_type": "markdown",
   "metadata": {
    "deletable": false,
    "editable": false,
    "id": "zj5534cv_Zct",
    "tags": [
     "start_task"
    ],
    "pycharm": {
     "name": "#%% md\n"
    }
   },
   "source": [
    "**Задание 7**\n",
    "\n",
    "\n",
    "Приведите названия в соответствие с хорошим стилем:\n",
    "* несколько слов в названии запишите в «змеином_регистре»,\n",
    "* все символы сделайте строчными,\n",
    "* устраните пробелы.\n",
    "\n",
    "Для этого переименуйте колонки так:\n",
    "* `'  userID'` → `'user_id'`;\n",
    "* `'Track'` → `'track'`;\n",
    "* `'  City  '` → `'city'`;\n",
    "* `'Day'` → `'day'`."
   ]
  },
  {
   "cell_type": "code",
   "execution_count": 167,
   "metadata": {
    "deletable": false,
    "id": "ISlFqs5y_Zct",
    "pycharm": {
     "name": "#%%\n"
    }
   },
   "outputs": [],
   "source": [
    "# переименование столбцов\n",
    "df = df.rename(columns = {'  userID' : 'user_id', 'Track' : 'track', '  City  ' : 'city', 'Day' : 'day'})"
   ]
  },
  {
   "cell_type": "markdown",
   "metadata": {
    "deletable": false,
    "editable": false,
    "id": "1dqbh00J_Zct",
    "tags": [
     "start_task"
    ],
    "pycharm": {
     "name": "#%% md\n"
    }
   },
   "source": [
    "**Задание 8**\n",
    "\n",
    "\n",
    "Проверьте результат. Для этого ещё раз выведите на экран названия столбцов:"
   ]
  },
  {
   "cell_type": "code",
   "execution_count": 168,
   "metadata": {
    "deletable": false,
    "id": "d4NOAmTW_Zct",
    "pycharm": {
     "name": "#%%\n"
    }
   },
   "outputs": [
    {
     "data": {
      "text/plain": [
       "Index(['user_id', 'track', 'artist', 'genre', 'city', 'time', 'day'], dtype='object')"
      ]
     },
     "execution_count": 168,
     "metadata": {},
     "output_type": "execute_result"
    }
   ],
   "source": [
    "# проверка результатов - перечень названий столбцов\n",
    "df.columns"
   ]
  },
  {
   "cell_type": "markdown",
   "metadata": {
    "deletable": false,
    "editable": false,
    "id": "5ISfbcfY_Zct",
    "tags": [
     "start_task"
    ],
    "pycharm": {
     "name": "#%% md\n"
    }
   },
   "source": [
    "### Пропуски значений\n",
    "\n",
    "**Задание 9**\n",
    "\n",
    "Сначала посчитайте, сколько в таблице пропущенных значений. Для этого достаточно двух методов `pandas`:"
   ]
  },
  {
   "cell_type": "code",
   "execution_count": 169,
   "metadata": {
    "deletable": false,
    "id": "RskX29qr_Zct",
    "pycharm": {
     "name": "#%%\n"
    }
   },
   "outputs": [
    {
     "data": {
      "text/plain": [
       "user_id       0\n",
       "track      1231\n",
       "artist     7203\n",
       "genre      1198\n",
       "city          0\n",
       "time          0\n",
       "day           0\n",
       "dtype: int64"
      ]
     },
     "execution_count": 169,
     "metadata": {},
     "output_type": "execute_result"
    }
   ],
   "source": [
    "# подсчёт пропусков\n",
    "df.isna().sum()"
   ]
  },
  {
   "cell_type": "markdown",
   "metadata": {
    "deletable": false,
    "editable": false,
    "id": "qubhgnlO_Zct",
    "pycharm": {
     "name": "#%% md\n"
    }
   },
   "source": [
    "Не все пропущенные значения влияют на исследование. Так в `track` и `artist` пропуски не важны для вашей работы. Достаточно заменить их явными обозначениями.\n",
    "\n",
    "Но пропуски в `genre` могут помешать сравнению музыкальных вкусов в Москве и Санкт-Петербурге. На практике было бы правильно установить причину пропусков и восстановить данные. Такой возможности нет в учебном проекте. Придётся:\n",
    "* заполнить и эти пропуски явными обозначениями;\n",
    "* оценить, насколько они повредят расчётам. "
   ]
  },
  {
   "cell_type": "markdown",
   "metadata": {
    "deletable": false,
    "editable": false,
    "id": "fSv2laPA_Zct",
    "tags": [
     "start_task"
    ],
    "pycharm": {
     "name": "#%% md\n"
    }
   },
   "source": [
    "**Задание 10**\n",
    "\n",
    "Замените пропущенные значения в столбцах `track`, `artist` и `genre` на строку `'unknown'`. Для этого создайте список `columns_to_replace`, переберите его элементы циклом `for` и для каждого столбца выполните замену пропущенных значений:"
   ]
  },
  {
   "cell_type": "code",
   "execution_count": 170,
   "metadata": {
    "deletable": false,
    "id": "KplB5qWs_Zct",
    "pycharm": {
     "name": "#%%\n"
    }
   },
   "outputs": [],
   "source": [
    "# перебор названий столбцов в цикле и замена пропущенных значений на 'unknown'\n",
    "columns_to_replace = ['track', 'artist', 'genre']\n",
    "for column in columns_to_replace:\n",
    "    df[column] = df[column].fillna('unknown')\n"
   ]
  },
  {
   "cell_type": "markdown",
   "metadata": {
    "deletable": false,
    "editable": false,
    "id": "Ilsm-MZo_Zct",
    "tags": [
     "start_task"
    ],
    "pycharm": {
     "name": "#%% md\n"
    }
   },
   "source": [
    "**Задание 11**\n",
    "\n",
    "Убедитесь, что в таблице не осталось пропусков. Для этого ещё раз посчитайте пропущенные значения."
   ]
  },
  {
   "cell_type": "code",
   "execution_count": 171,
   "metadata": {
    "deletable": false,
    "id": "Tq4nYRX4_Zct",
    "pycharm": {
     "name": "#%%\n"
    }
   },
   "outputs": [
    {
     "data": {
      "text/plain": [
       "user_id    0\n",
       "track      0\n",
       "artist     0\n",
       "genre      0\n",
       "city       0\n",
       "time       0\n",
       "day        0\n",
       "dtype: int64"
      ]
     },
     "execution_count": 171,
     "metadata": {},
     "output_type": "execute_result"
    }
   ],
   "source": [
    "# подсчёт пропусков\n",
    "df.isna().sum()"
   ]
  },
  {
   "cell_type": "markdown",
   "metadata": {
    "deletable": false,
    "editable": false,
    "id": "BWKRtBJ3_Zct",
    "tags": [
     "start_task"
    ],
    "pycharm": {
     "name": "#%% md\n"
    }
   },
   "source": [
    "### Дубликаты\n",
    "\n",
    "**Задание 12**\n",
    "\n",
    "Посчитайте явные дубликаты в таблице одной командой:"
   ]
  },
  {
   "cell_type": "code",
   "execution_count": 172,
   "metadata": {
    "deletable": false,
    "id": "36eES_S0_Zct",
    "pycharm": {
     "name": "#%%\n"
    }
   },
   "outputs": [
    {
     "data": {
      "text/plain": [
       "3826"
      ]
     },
     "execution_count": 172,
     "metadata": {},
     "output_type": "execute_result"
    }
   ],
   "source": [
    "# подсчёт явных дубликатов\n",
    "df.duplicated().sum()"
   ]
  },
  {
   "cell_type": "markdown",
   "metadata": {
    "deletable": false,
    "editable": false,
    "id": "Ot25h6XR_Zct",
    "tags": [
     "start_task"
    ],
    "pycharm": {
     "name": "#%% md\n"
    }
   },
   "source": [
    "**Задание 13**\n",
    "\n",
    "Вызовите специальный метод `pandas`, чтобы удалить явные дубликаты:"
   ]
  },
  {
   "cell_type": "code",
   "execution_count": 173,
   "metadata": {
    "deletable": false,
    "id": "exFHq6tt_Zct",
    "pycharm": {
     "name": "#%%\n"
    }
   },
   "outputs": [],
   "source": [
    "# удаление явных дубликатов\n",
    "df = df.drop_duplicates()"
   ]
  },
  {
   "cell_type": "markdown",
   "metadata": {
    "deletable": false,
    "editable": false,
    "id": "Im2YwBEG_Zct",
    "tags": [
     "start_task"
    ],
    "pycharm": {
     "name": "#%% md\n"
    }
   },
   "source": [
    "**Задание 14**\n",
    "\n",
    "Ещё раз посчитайте явные дубликаты в таблице — убедитесь, что полностью от них избавились:"
   ]
  },
  {
   "cell_type": "code",
   "execution_count": 174,
   "metadata": {
    "deletable": false,
    "id": "-8PuNWQ0_Zct",
    "pycharm": {
     "name": "#%%\n"
    }
   },
   "outputs": [
    {
     "data": {
      "text/plain": [
       "0"
      ]
     },
     "execution_count": 174,
     "metadata": {},
     "output_type": "execute_result"
    }
   ],
   "source": [
    "# проверка на отсутствие дубликатов\n",
    "df.duplicated().sum()"
   ]
  },
  {
   "cell_type": "markdown",
   "metadata": {
    "deletable": false,
    "editable": false,
    "id": "QlFBsxAr_Zct",
    "pycharm": {
     "name": "#%% md\n"
    }
   },
   "source": [
    "Теперь избавьтесь от неявных дубликатов в колонке `genre`. Например, название одного и того же жанра может быть записано немного по-разному. Такие ошибки тоже повлияют на результат исследования."
   ]
  },
  {
   "cell_type": "markdown",
   "metadata": {
    "deletable": false,
    "editable": false,
    "id": "eSjWwsOh_Zct",
    "tags": [
     "start_task"
    ],
    "pycharm": {
     "name": "#%% md\n"
    }
   },
   "source": [
    "**Задание 15**\n",
    "\n",
    "Выведите на экран список уникальных названий жанров, отсортированный в алфавитном порядке. Для этого:\n",
    "1. извлеките нужный столбец датафрейма; \n",
    "2. примените к нему метод сортировки;\n",
    "3. для отсортированного столбца вызовите метод, который вернёт уникальные значения из столбца."
   ]
  },
  {
   "cell_type": "code",
   "execution_count": 175,
   "metadata": {
    "deletable": false,
    "id": "JIUcqzZN_Zct",
    "pycharm": {
     "name": "#%%\n"
    }
   },
   "outputs": [
    {
     "data": {
      "text/plain": [
       "array(['acid', 'acoustic', 'action', 'adult', 'africa', 'afrikaans',\n",
       "       'alternative', 'alternativepunk', 'ambient', 'americana',\n",
       "       'animated', 'anime', 'arabesk', 'arabic', 'arena',\n",
       "       'argentinetango', 'art', 'audiobook', 'author', 'avantgarde',\n",
       "       'axé', 'baile', 'balkan', 'beats', 'bigroom', 'black', 'bluegrass',\n",
       "       'blues', 'bollywood', 'bossa', 'brazilian', 'breakbeat', 'breaks',\n",
       "       'broadway', 'cantautori', 'cantopop', 'canzone', 'caribbean',\n",
       "       'caucasian', 'celtic', 'chamber', 'chanson', 'children', 'chill',\n",
       "       'chinese', 'choral', 'christian', 'christmas', 'classical',\n",
       "       'classicmetal', 'club', 'colombian', 'comedy', 'conjazz',\n",
       "       'contemporary', 'country', 'cuban', 'dance', 'dancehall',\n",
       "       'dancepop', 'dark', 'death', 'deep', 'deutschrock', 'deutschspr',\n",
       "       'dirty', 'disco', 'dnb', 'documentary', 'downbeat', 'downtempo',\n",
       "       'drum', 'dub', 'dubstep', 'eastern', 'easy', 'electronic',\n",
       "       'electropop', 'emo', 'entehno', 'epicmetal', 'estrada', 'ethnic',\n",
       "       'eurofolk', 'european', 'experimental', 'extrememetal', 'fado',\n",
       "       'fairytail', 'film', 'fitness', 'flamenco', 'folk', 'folklore',\n",
       "       'folkmetal', 'folkrock', 'folktronica', 'forró', 'frankreich',\n",
       "       'französisch', 'french', 'funk', 'future', 'gangsta', 'garage',\n",
       "       'german', 'ghazal', 'gitarre', 'glitch', 'gospel', 'gothic',\n",
       "       'grime', 'grunge', 'gypsy', 'handsup', \"hard'n'heavy\", 'hardcore',\n",
       "       'hardstyle', 'hardtechno', 'hip', 'hip-hop', 'hiphop',\n",
       "       'historisch', 'holiday', 'hop', 'horror', 'house', 'hymn', 'idm',\n",
       "       'independent', 'indian', 'indie', 'indipop', 'industrial',\n",
       "       'inspirational', 'instrumental', 'international', 'irish', 'jam',\n",
       "       'japanese', 'jazz', 'jewish', 'jpop', 'jungle', 'k-pop',\n",
       "       'karadeniz', 'karaoke', 'kayokyoku', 'korean', 'laiko', 'latin',\n",
       "       'latino', 'leftfield', 'local', 'lounge', 'loungeelectronic',\n",
       "       'lovers', 'malaysian', 'mandopop', 'marschmusik', 'meditative',\n",
       "       'mediterranean', 'melodic', 'metal', 'metalcore', 'mexican',\n",
       "       'middle', 'minimal', 'miscellaneous', 'modern', 'mood', 'mpb',\n",
       "       'muslim', 'native', 'neoklassik', 'neue', 'new', 'newage',\n",
       "       'newwave', 'nu', 'nujazz', 'numetal', 'oceania', 'old', 'opera',\n",
       "       'orchestral', 'other', 'piano', 'podcasts', 'pop', 'popdance',\n",
       "       'popelectronic', 'popeurodance', 'poprussian', 'post',\n",
       "       'posthardcore', 'postrock', 'power', 'progmetal', 'progressive',\n",
       "       'psychedelic', 'punjabi', 'punk', 'quebecois', 'ragga', 'ram',\n",
       "       'rancheras', 'rap', 'rave', 'reggae', 'reggaeton', 'regional',\n",
       "       'relax', 'religious', 'retro', 'rhythm', 'rnb', 'rnr', 'rock',\n",
       "       'rockabilly', 'rockalternative', 'rockindie', 'rockother',\n",
       "       'romance', 'roots', 'ruspop', 'rusrap', 'rusrock', 'russian',\n",
       "       'salsa', 'samba', 'scenic', 'schlager', 'self', 'sertanejo',\n",
       "       'shanson', 'shoegazing', 'showtunes', 'singer', 'ska', 'skarock',\n",
       "       'slow', 'smooth', 'soft', 'soul', 'soulful', 'sound', 'soundtrack',\n",
       "       'southern', 'specialty', 'speech', 'spiritual', 'sport',\n",
       "       'stonerrock', 'surf', 'swing', 'synthpop', 'synthrock',\n",
       "       'sängerportrait', 'tango', 'tanzorchester', 'taraftar', 'tatar',\n",
       "       'tech', 'techno', 'teen', 'thrash', 'top', 'traditional',\n",
       "       'tradjazz', 'trance', 'tribal', 'trip', 'triphop', 'tropical',\n",
       "       'türk', 'türkçe', 'ukrrock', 'unknown', 'urban', 'uzbek',\n",
       "       'variété', 'vi', 'videogame', 'vocal', 'western', 'world',\n",
       "       'worldbeat', 'ïîï', 'электроника'], dtype=object)"
      ]
     },
     "execution_count": 175,
     "metadata": {},
     "output_type": "execute_result"
    }
   ],
   "source": [
    "# Просмотр уникальных названий жанров\n",
    "unique_genre = df.sort_values(by = 'genre')\n",
    "unique_genre['genre'].unique()"
   ]
  },
  {
   "cell_type": "markdown",
   "metadata": {
    "deletable": false,
    "editable": false,
    "id": "qej-Qmuo_Zct",
    "tags": [
     "start_task"
    ],
    "pycharm": {
     "name": "#%% md\n"
    }
   },
   "source": [
    "**Задание 16**\n",
    "\n",
    "Просмотрите список и найдите неявные дубликаты названия `hiphop`. Это могут быть названия с ошибками или альтернативные названия того же жанра.\n",
    "\n",
    "Вы увидите следующие неявные дубликаты:\n",
    "* *hip*,\n",
    "* *hop*,\n",
    "* *hip-hop*.\n",
    "\n",
    "Чтобы очистить от них таблицу используйте метод `replace()` с двумя аргументами: списком строк-дубликатов (включащий *hip*, *hop* и *hip-hop*) и строкой с правильным значением. Вам нужно исправить колонку `genre` в таблице `df`: заменить каждое значение из списка дубликатов на верное. Вместо `hip`, `hop` и `hip-hop` в таблице должно быть значение `hiphop`:"
   ]
  },
  {
   "cell_type": "code",
   "execution_count": 176,
   "metadata": {
    "deletable": false,
    "id": "ErNDkmns_Zct",
    "pycharm": {
     "name": "#%%\n"
    }
   },
   "outputs": [],
   "source": [
    "# Устранение неявных дубликатов\n",
    "genge_duplicates = ['hip', 'hop', 'hip-hop']\n",
    "genre_correct = 'hiphop'\n",
    "df = df.replace(genge_duplicates, genre_correct)"
   ]
  },
  {
   "cell_type": "markdown",
   "metadata": {
    "deletable": false,
    "editable": false,
    "id": "zQKF16_RG15m",
    "tags": [
     "start_task"
    ],
    "pycharm": {
     "name": "#%% md\n"
    }
   },
   "source": [
    "**Задание 17**\n",
    "\n",
    "Проверьте, что заменили неправильные названия:\n",
    "\n",
    "*   hip,\n",
    "*   hop,\n",
    "*   hip-hop.\n",
    "\n",
    "Выведите отсортированный список уникальных значений столбца `genre`:"
   ]
  },
  {
   "cell_type": "code",
   "execution_count": 177,
   "metadata": {
    "deletable": false,
    "id": "wvixALnFG15m",
    "pycharm": {
     "name": "#%%\n"
    }
   },
   "outputs": [
    {
     "data": {
      "text/plain": [
       "array(['acid', 'acoustic', 'action', 'adult', 'africa', 'afrikaans',\n",
       "       'alternative', 'alternativepunk', 'ambient', 'americana',\n",
       "       'animated', 'anime', 'arabesk', 'arabic', 'arena',\n",
       "       'argentinetango', 'art', 'audiobook', 'author', 'avantgarde',\n",
       "       'axé', 'baile', 'balkan', 'beats', 'bigroom', 'black', 'bluegrass',\n",
       "       'blues', 'bollywood', 'bossa', 'brazilian', 'breakbeat', 'breaks',\n",
       "       'broadway', 'cantautori', 'cantopop', 'canzone', 'caribbean',\n",
       "       'caucasian', 'celtic', 'chamber', 'chanson', 'children', 'chill',\n",
       "       'chinese', 'choral', 'christian', 'christmas', 'classical',\n",
       "       'classicmetal', 'club', 'colombian', 'comedy', 'conjazz',\n",
       "       'contemporary', 'country', 'cuban', 'dance', 'dancehall',\n",
       "       'dancepop', 'dark', 'death', 'deep', 'deutschrock', 'deutschspr',\n",
       "       'dirty', 'disco', 'dnb', 'documentary', 'downbeat', 'downtempo',\n",
       "       'drum', 'dub', 'dubstep', 'eastern', 'easy', 'electronic',\n",
       "       'electropop', 'emo', 'entehno', 'epicmetal', 'estrada', 'ethnic',\n",
       "       'eurofolk', 'european', 'experimental', 'extrememetal', 'fado',\n",
       "       'fairytail', 'film', 'fitness', 'flamenco', 'folk', 'folklore',\n",
       "       'folkmetal', 'folkrock', 'folktronica', 'forró', 'frankreich',\n",
       "       'französisch', 'french', 'funk', 'future', 'gangsta', 'garage',\n",
       "       'german', 'ghazal', 'gitarre', 'glitch', 'gospel', 'gothic',\n",
       "       'grime', 'grunge', 'gypsy', 'handsup', \"hard'n'heavy\", 'hardcore',\n",
       "       'hardstyle', 'hardtechno', 'hiphop', 'historisch', 'holiday',\n",
       "       'horror', 'house', 'hymn', 'idm', 'independent', 'indian', 'indie',\n",
       "       'indipop', 'industrial', 'inspirational', 'instrumental',\n",
       "       'international', 'irish', 'jam', 'japanese', 'jazz', 'jewish',\n",
       "       'jpop', 'jungle', 'k-pop', 'karadeniz', 'karaoke', 'kayokyoku',\n",
       "       'korean', 'laiko', 'latin', 'latino', 'leftfield', 'local',\n",
       "       'lounge', 'loungeelectronic', 'lovers', 'malaysian', 'mandopop',\n",
       "       'marschmusik', 'meditative', 'mediterranean', 'melodic', 'metal',\n",
       "       'metalcore', 'mexican', 'middle', 'minimal', 'miscellaneous',\n",
       "       'modern', 'mood', 'mpb', 'muslim', 'native', 'neoklassik', 'neue',\n",
       "       'new', 'newage', 'newwave', 'nu', 'nujazz', 'numetal', 'oceania',\n",
       "       'old', 'opera', 'orchestral', 'other', 'piano', 'podcasts', 'pop',\n",
       "       'popdance', 'popelectronic', 'popeurodance', 'poprussian', 'post',\n",
       "       'posthardcore', 'postrock', 'power', 'progmetal', 'progressive',\n",
       "       'psychedelic', 'punjabi', 'punk', 'quebecois', 'ragga', 'ram',\n",
       "       'rancheras', 'rap', 'rave', 'reggae', 'reggaeton', 'regional',\n",
       "       'relax', 'religious', 'retro', 'rhythm', 'rnb', 'rnr', 'rock',\n",
       "       'rockabilly', 'rockalternative', 'rockindie', 'rockother',\n",
       "       'romance', 'roots', 'ruspop', 'rusrap', 'rusrock', 'russian',\n",
       "       'salsa', 'samba', 'scenic', 'schlager', 'self', 'sertanejo',\n",
       "       'shanson', 'shoegazing', 'showtunes', 'singer', 'ska', 'skarock',\n",
       "       'slow', 'smooth', 'soft', 'soul', 'soulful', 'sound', 'soundtrack',\n",
       "       'southern', 'specialty', 'speech', 'spiritual', 'sport',\n",
       "       'stonerrock', 'surf', 'swing', 'synthpop', 'synthrock',\n",
       "       'sängerportrait', 'tango', 'tanzorchester', 'taraftar', 'tatar',\n",
       "       'tech', 'techno', 'teen', 'thrash', 'top', 'traditional',\n",
       "       'tradjazz', 'trance', 'tribal', 'trip', 'triphop', 'tropical',\n",
       "       'türk', 'türkçe', 'ukrrock', 'unknown', 'urban', 'uzbek',\n",
       "       'variété', 'vi', 'videogame', 'vocal', 'western', 'world',\n",
       "       'worldbeat', 'ïîï', 'электроника'], dtype=object)"
      ]
     },
     "execution_count": 177,
     "metadata": {},
     "output_type": "execute_result"
    }
   ],
   "source": [
    "# Проверка на неявные дубликаты\n",
    "unique_genre = df.sort_values(by = 'genre')\n",
    "unique_genre['genre'].unique()"
   ]
  },
  {
   "cell_type": "markdown",
   "metadata": {
    "deletable": false,
    "editable": false,
    "id": "jz6a9-7HQUDd",
    "pycharm": {
     "name": "#%% md\n"
    }
   },
   "source": [
    "**Выводы**\n",
    "\n",
    "Предобработка обнаружила три проблемы в данных:\n",
    "\n",
    "- нарушения в стиле заголовков,\n",
    "- пропущенные значения,\n",
    "- дубликаты — явные и неявные.\n",
    "\n",
    "Вы исправили заголовки, чтобы упростить работу с таблицей. Без дубликатов исследование станет более точным.\n",
    "\n",
    "Пропущенные значения вы заменили на `'unknown'`. Ещё предстоит увидеть, не повредят ли исследованию пропуски в колонке `genre`.\n",
    "\n",
    "Теперь можно перейти к проверке гипотез. "
   ]
  },
  {
   "cell_type": "markdown",
   "metadata": {
    "deletable": false,
    "editable": false,
    "id": "WttZHXH0SqKk",
    "pycharm": {
     "name": "#%% md\n"
    }
   },
   "source": [
    "## Проверка гипотез"
   ]
  },
  {
   "cell_type": "markdown",
   "metadata": {
    "deletable": false,
    "editable": false,
    "id": "Im936VVi_Zcu",
    "pycharm": {
     "name": "#%% md\n"
    }
   },
   "source": [
    "### Сравнение поведения пользователей двух столиц"
   ]
  },
  {
   "cell_type": "markdown",
   "metadata": {
    "deletable": false,
    "editable": false,
    "id": "nwt_MuaL_Zcu",
    "pycharm": {
     "name": "#%% md\n"
    }
   },
   "source": [
    "Первая гипотеза утверждает, что пользователи по-разному слушают музыку в Москве и Санкт-Петербурге. Проверьте это предположение по данным о трёх днях недели — понедельнике, среде и пятнице. Для этого:\n",
    "\n",
    "* Разделите пользователей Москвы и Санкт-Петербурга.\n",
    "* Сравните, сколько треков послушала каждая группа пользователей в понедельник, среду и пятницу.\n"
   ]
  },
  {
   "cell_type": "markdown",
   "metadata": {
    "deletable": false,
    "editable": false,
    "id": "8Dw_YMmT_Zcu",
    "tags": [
     "start_task"
    ],
    "pycharm": {
     "name": "#%% md\n"
    }
   },
   "source": [
    "**Задание 18**\n",
    "\n",
    "Для тренировки сначала выполните каждый из расчётов по отдельности. \n",
    "\n",
    "Оцените активность пользователей в каждом городе. Сгруппируйте данные по городу и посчитайте прослушивания в каждой группе.\n",
    "\n"
   ]
  },
  {
   "cell_type": "code",
   "execution_count": 178,
   "metadata": {
    "deletable": false,
    "id": "0_Qs96oh_Zcu",
    "pycharm": {
     "name": "#%%\n"
    }
   },
   "outputs": [
    {
     "data": {
      "text/plain": [
       "city\n",
       "Moscow              42741\n",
       "Saint-Petersburg    18512\n",
       "Name: city, dtype: int64"
      ]
     },
     "execution_count": 178,
     "metadata": {},
     "output_type": "execute_result"
    }
   ],
   "source": [
    "# Подсчёт прослушиваний в каждом городе\n",
    "city_groups = df.groupby('city')['city']\n",
    "city_groups.count()"
   ]
  },
  {
   "cell_type": "markdown",
   "metadata": {
    "deletable": false,
    "editable": false,
    "id": "dzli3w8o_Zcu",
    "tags": [
     "start_task"
    ],
    "pycharm": {
     "name": "#%% md\n"
    }
   },
   "source": [
    "В Москве прослушиваний больше, чем в Петербурге. Из этого не следует, что московские пользователи чаще слушают музыку. Просто самих пользователей в Москве больше.\n",
    "\n",
    "**Задание 19**\n",
    "\n",
    "Теперь сгруппируйте данные по дню недели и посчитайте прослушивания в понедельник, среду и пятницу. Учтите, что в данных есть информация о прослушиваниях только за эти дни.\n"
   ]
  },
  {
   "cell_type": "code",
   "execution_count": 179,
   "metadata": {
    "deletable": false,
    "id": "uZMKjiJz_Zcu",
    "scrolled": true,
    "pycharm": {
     "name": "#%%\n"
    }
   },
   "outputs": [
    {
     "data": {
      "text/plain": [
       "day\n",
       "Friday       21840\n",
       "Monday       21354\n",
       "Wednesday    18059\n",
       "Name: day, dtype: int64"
      ]
     },
     "execution_count": 179,
     "metadata": {},
     "output_type": "execute_result"
    }
   ],
   "source": [
    "# Подсчёт прослушиваний в каждый из трёх дней\n",
    "day_group = df.groupby('day')['day']\n",
    "day_group.count()"
   ]
  },
  {
   "cell_type": "markdown",
   "metadata": {
    "deletable": false,
    "editable": false,
    "id": "cC2tNrlL_Zcu",
    "pycharm": {
     "name": "#%% md\n"
    }
   },
   "source": [
    "В среднем пользователи из двух городов менее активны по средам. Но картина может измениться, если рассмотреть каждый город в отдельности."
   ]
  },
  {
   "cell_type": "markdown",
   "metadata": {
    "deletable": false,
    "editable": false,
    "id": "POzs8bGa_Zcu",
    "tags": [
     "start_task"
    ],
    "pycharm": {
     "name": "#%% md\n"
    }
   },
   "source": [
    "**Задание 20**\n",
    "\n",
    "\n",
    "Вы видели, как работает группировка по городу и по дням недели. Теперь напишите функцию, которая объединит два эти расчёта.\n",
    "\n",
    "Создайте функцию `number_tracks()`, которая посчитает прослушивания для заданного дня и города. Ей понадобятся два параметра:\n",
    "* день недели,\n",
    "* название города.\n",
    "\n",
    "В функции сохраните в переменную строки исходной таблицы, у которых значение:\n",
    "  * в колонке `day` равно параметру `day`,\n",
    "  * в колонке `city` равно параметру `city`.\n",
    "\n",
    "Для этого примените последовательную фильтрацию с логической индексацией (или сложные логические выражения в одну строку, если вы уже знакомы с ними).\n",
    "\n",
    "Затем посчитайте значения в столбце `user_id` получившейся таблицы. Результат сохраните в новую переменную. Верните эту переменную из функции."
   ]
  },
  {
   "cell_type": "code",
   "execution_count": 180,
   "metadata": {
    "deletable": false,
    "id": "Nz3GdQB1_Zcu",
    "pycharm": {
     "name": "#%%\n"
    }
   },
   "outputs": [],
   "source": [
    "# <создание функции number_tracks()>\n",
    "# Объявляется функция с двумя параметрами: day, city.\n",
    "def number_tracks(day, city):\n",
    "# В переменной track_list сохраняются те строки таблицы df, для которых \n",
    "# значение в столбце 'day' равно параметру day и одновременно значение\n",
    "# в столбце 'city' равно параметру city (используйте последовательную фильтрацию\n",
    "# с помощью логической индексации или сложные логические выражения в одну строку, если вы уже знакомы с ними).\n",
    "    track_list = df[df['day'] == day]\n",
    "    track_list =  track_list[track_list['city'] == city]\n",
    "# В переменной track_list_count сохраняется число значений столбца 'user_id',\n",
    "# рассчитанное методом count() для таблицы track_list.\n",
    "    track_list_count = track_list['user_id'].count()\n",
    "# Функция возвращает число - значение track_list_count.\n",
    "    return track_list_count\n",
    "\n",
    "# Функция для подсчёта прослушиваний для конкретного города и дня.\n",
    "# С помощью последовательной фильтрации с логической индексацией она \n",
    "# сначала получит из исходной таблицы строки с нужным днём,\n",
    "# затем из результата отфильтрует строки с нужным городом,\n",
    "# методом count() посчитает количество значений в колонке user_id. \n",
    "# Это количество функция вернёт в качестве результата"
   ]
  },
  {
   "cell_type": "markdown",
   "metadata": {
    "deletable": false,
    "editable": false,
    "id": "ytf7xFrFJQ2r",
    "tags": [
     "start_task"
    ],
    "pycharm": {
     "name": "#%% md\n"
    }
   },
   "source": [
    "**Задание 21**\n",
    "\n",
    "Вызовите `number_tracks()` шесть раз, меняя значение параметров — так, чтобы получить данные для каждого города в каждый из трёх дней."
   ]
  },
  {
   "cell_type": "code",
   "execution_count": 181,
   "metadata": {
    "deletable": false,
    "id": "rJcRATNQ_Zcu",
    "scrolled": true,
    "pycharm": {
     "name": "#%%\n"
    }
   },
   "outputs": [
    {
     "data": {
      "text/plain": [
       "15740"
      ]
     },
     "execution_count": 181,
     "metadata": {},
     "output_type": "execute_result"
    }
   ],
   "source": [
    "# количество прослушиваний в Москве по понедельникам\n",
    "number_tracks('Monday', 'Moscow')"
   ]
  },
  {
   "cell_type": "code",
   "execution_count": 182,
   "metadata": {
    "deletable": false,
    "id": "hq_ncZ5T_Zcu",
    "pycharm": {
     "name": "#%%\n"
    }
   },
   "outputs": [
    {
     "data": {
      "text/plain": [
       "5614"
      ]
     },
     "execution_count": 182,
     "metadata": {},
     "output_type": "execute_result"
    }
   ],
   "source": [
    "# количество прослушиваний в Санкт-Петербурге по понедельникам\n",
    "number_tracks('Monday', 'Saint-Petersburg')"
   ]
  },
  {
   "cell_type": "code",
   "execution_count": 183,
   "metadata": {
    "deletable": false,
    "id": "_NTy2VPU_Zcu",
    "pycharm": {
     "name": "#%%\n"
    }
   },
   "outputs": [
    {
     "data": {
      "text/plain": [
       "11056"
      ]
     },
     "execution_count": 183,
     "metadata": {},
     "output_type": "execute_result"
    }
   ],
   "source": [
    "# количество прослушиваний в Москве по средам\n",
    "number_tracks('Wednesday', 'Moscow')"
   ]
  },
  {
   "cell_type": "code",
   "execution_count": 184,
   "metadata": {
    "deletable": false,
    "id": "j2y3TAwo_Zcu",
    "pycharm": {
     "name": "#%%\n"
    }
   },
   "outputs": [
    {
     "data": {
      "text/plain": [
       "7003"
      ]
     },
     "execution_count": 184,
     "metadata": {},
     "output_type": "execute_result"
    }
   ],
   "source": [
    "# количество прослушиваний в Санкт-Петербурге по средам\n",
    "number_tracks('Wednesday', 'Saint-Petersburg')"
   ]
  },
  {
   "cell_type": "code",
   "execution_count": 185,
   "metadata": {
    "deletable": false,
    "id": "vYDw5u_K_Zcu",
    "pycharm": {
     "name": "#%%\n"
    }
   },
   "outputs": [
    {
     "data": {
      "text/plain": [
       "15945"
      ]
     },
     "execution_count": 185,
     "metadata": {},
     "output_type": "execute_result"
    }
   ],
   "source": [
    "# количество прослушиваний в Москве по пятницам\n",
    "number_tracks('Friday', 'Moscow')"
   ]
  },
  {
   "cell_type": "code",
   "execution_count": 186,
   "metadata": {
    "deletable": false,
    "id": "8_yzFtW3_Zcu",
    "pycharm": {
     "name": "#%%\n"
    }
   },
   "outputs": [
    {
     "data": {
      "text/plain": [
       "5895"
      ]
     },
     "execution_count": 186,
     "metadata": {},
     "output_type": "execute_result"
    }
   ],
   "source": [
    "# количество прослушиваний в Санкт-Петербурге по пятницам\n",
    "number_tracks('Friday', 'Saint-Petersburg')"
   ]
  },
  {
   "cell_type": "markdown",
   "metadata": {
    "deletable": false,
    "editable": false,
    "id": "7QXffbO-_Zcu",
    "tags": [
     "start_task"
    ],
    "pycharm": {
     "name": "#%% md\n"
    }
   },
   "source": [
    "**Задание 22**\n",
    "\n",
    "Создайте c помощью конструктора `pd.DataFrame` таблицу, где\n",
    "* названия колонок — `['city', 'monday', 'wednesday', 'friday']`;\n",
    "* данные — результаты, которые вы получили с помощью `number_tracks`."
   ]
  },
  {
   "cell_type": "code",
   "execution_count": 187,
   "metadata": {
    "deletable": false,
    "id": "APAcLpOr_Zcu",
    "pycharm": {
     "name": "#%%\n"
    }
   },
   "outputs": [
    {
     "data": {
      "text/html": [
       "<div>\n",
       "<style scoped>\n",
       "    .dataframe tbody tr th:only-of-type {\n",
       "        vertical-align: middle;\n",
       "    }\n",
       "\n",
       "    .dataframe tbody tr th {\n",
       "        vertical-align: top;\n",
       "    }\n",
       "\n",
       "    .dataframe thead th {\n",
       "        text-align: right;\n",
       "    }\n",
       "</style>\n",
       "<table border=\"1\" class=\"dataframe\">\n",
       "  <thead>\n",
       "    <tr style=\"text-align: right;\">\n",
       "      <th></th>\n",
       "      <th>city</th>\n",
       "      <th>monday</th>\n",
       "      <th>wednesday</th>\n",
       "      <th>friday</th>\n",
       "    </tr>\n",
       "  </thead>\n",
       "  <tbody>\n",
       "    <tr>\n",
       "      <th>0</th>\n",
       "      <td>Москва</td>\n",
       "      <td>15740</td>\n",
       "      <td>11056</td>\n",
       "      <td>15945</td>\n",
       "    </tr>\n",
       "    <tr>\n",
       "      <th>1</th>\n",
       "      <td>Санкт-Петербург</td>\n",
       "      <td>5614</td>\n",
       "      <td>7003</td>\n",
       "      <td>5895</td>\n",
       "    </tr>\n",
       "  </tbody>\n",
       "</table>\n",
       "</div>"
      ],
      "text/plain": [
       "              city  monday  wednesday  friday\n",
       "0           Москва   15740      11056   15945\n",
       "1  Санкт-Петербург    5614       7003    5895"
      ]
     },
     "execution_count": 187,
     "metadata": {},
     "output_type": "execute_result"
    }
   ],
   "source": [
    "# Таблица с результатами\n",
    "info = pd.DataFrame(data=[['Москва', 15740, 11056, 15945], ['Санкт-Петербург', 5614, 7003, 5895]], columns=['city', 'monday', 'wednesday', 'friday'])\n",
    "info "
   ]
  },
  {
   "cell_type": "markdown",
   "metadata": {
    "deletable": false,
    "editable": false,
    "id": "-EgPIHYu_Zcu",
    "pycharm": {
     "name": "#%% md\n"
    }
   },
   "source": [
    "**Выводы**\n",
    "\n",
    "Данные показывают разницу поведения пользователей:\n",
    "\n",
    "- В Москве пик прослушиваний приходится на понедельник и пятницу, а в среду заметен спад.\n",
    "- В Петербурге, наоборот, больше слушают музыку по средам. Активность в понедельник и пятницу здесь почти в равной мере уступает среде.\n",
    "\n",
    "Значит, данные говорят в пользу первой гипотезы."
   ]
  },
  {
   "cell_type": "markdown",
   "metadata": {
    "deletable": false,
    "editable": false,
    "id": "atZAxtq4_Zcu",
    "pycharm": {
     "name": "#%% md\n"
    }
   },
   "source": [
    "### Музыка в начале и в конце недели"
   ]
  },
  {
   "cell_type": "markdown",
   "metadata": {
    "deletable": false,
    "editable": false,
    "id": "eXrQqXFH_Zcu",
    "pycharm": {
     "name": "#%% md\n"
    }
   },
   "source": [
    "Согласно второй гипотезе, утром в понедельник в Москве преобладают одни жанры, а в Петербурге — другие. Так же и вечером пятницы преобладают разные жанры — в зависимости от города."
   ]
  },
  {
   "cell_type": "markdown",
   "metadata": {
    "deletable": false,
    "editable": false,
    "id": "S8UcW6Hw_Zcu",
    "tags": [
     "start_task"
    ],
    "pycharm": {
     "name": "#%% md\n"
    }
   },
   "source": [
    "**Задание 23**\n",
    "\n",
    "Сохраните таблицы с данными в две переменные:\n",
    "* по Москве — в `moscow_general`;\n",
    "* по Санкт-Петербургу — в `spb_general`."
   ]
  },
  {
   "cell_type": "code",
   "execution_count": 188,
   "metadata": {
    "deletable": false,
    "id": "qeaFfM_P_Zcu",
    "pycharm": {
     "name": "#%%\n"
    }
   },
   "outputs": [],
   "source": [
    "# получение таблицы moscow_general из тех строк таблицы df, \n",
    "# для которых значение в столбце 'city' равно 'Moscow'\n",
    "moscow_general = df[df['city'] == 'Moscow']"
   ]
  },
  {
   "cell_type": "code",
   "execution_count": 189,
   "metadata": {
    "deletable": false,
    "id": "ORaVRKto_Zcu",
    "pycharm": {
     "name": "#%%\n"
    }
   },
   "outputs": [],
   "source": [
    "# получение таблицы spb_general из тех строк таблицы df,\n",
    "# для которых значение в столбце 'city' равно 'Saint-Petersburg'\n",
    "spb_general = df[df['city'] == 'Saint-Petersburg']"
   ]
  },
  {
   "cell_type": "markdown",
   "metadata": {
    "deletable": false,
    "editable": false,
    "id": "MEJV-CX2_Zcu",
    "tags": [
     "start_task"
    ],
    "pycharm": {
     "name": "#%% md\n"
    }
   },
   "source": [
    "**Задание 24**\n",
    "\n",
    "Создайте функцию `genre_weekday()` с четырьмя параметрами:\n",
    "* таблица (датафрейм) с данными,\n",
    "* день недели,\n",
    "* начальная временная метка в формате 'hh:mm', \n",
    "* последняя временная метка в формате 'hh:mm'.\n",
    "\n",
    "Функция должна вернуть информацию о топ-10 жанров тех треков, которые прослушивали в указанный день, в промежутке между двумя отметками времени."
   ]
  },
  {
   "cell_type": "code",
   "execution_count": 190,
   "metadata": {
    "deletable": false,
    "id": "laJT9BYl_Zcu",
    "pycharm": {
     "name": "#%%\n"
    }
   },
   "outputs": [],
   "source": [
    "# Объявление функции genre_weekday() с параметрами table, day, time1, time2,\n",
    "# которая возвращает информацию о самых популярных жанрах в указанный день в\n",
    "# заданное время:\n",
    "# 1) в переменную genre_df сохраняются те строки переданного датафрейма table, для\n",
    "#    которых одновременно:\n",
    "#    - значение в столбце day равно значению аргумента day\n",
    "#    - значение в столбце time больше значения аргумента time1\n",
    "#    - значение в столбце time меньше значения аргумента time2\n",
    "#    Используйте последовательную фильтрацию с помощью логической индексации.\n",
    "# 2) сгруппировать датафрейм genre_df по столбцу genre, взять один из его\n",
    "#    столбцов и посчитать методом count() количество записей для каждого из\n",
    "#    присутствующих жанров, получившийся Series записать в переменную\n",
    "#    genre_df_count\n",
    "# 3) отсортировать genre_df_count по убыванию встречаемости и сохранить\n",
    "#    в переменную genre_df_sorted\n",
    "# 4) вернуть Series из 10 первых значений genre_df_sorted, это будут топ-10\n",
    "#    популярных жанров (в указанный день, в заданное время)\n",
    "\n",
    "def genre_weekday(df, day, time1, time2):\n",
    "    # последовательная фильтрация\n",
    "    # оставляем в genre_df только те строки df, у которых день равен day\n",
    "    genre_df = df[df['day'] == day] # ваш код здесь\n",
    "    # оставляем в genre_df только те строки genre_df, у которых время меньше time2\n",
    "    genre_df = genre_df[genre_df['time'] < time2] # ваш код здесь\n",
    "    # оставляем в genre_df только те строки genre_df, у которых время больше time1\n",
    "    genre_df = genre_df[genre_df['time'] > time1] # ваш код здесь\n",
    "    # сгруппируем отфильтрованный датафрейм по столбцу с названиями жанров, возьмём столбец genre и посчитаем кол-во строк для каждого жанра методом count()\n",
    "    genre_df_grouped = genre_df.groupby('genre')['genre'].count() # ваш код здесь\n",
    "    # отсортируем результат по убыванию (чтобы в начале Series оказались самые популярные жанры)\n",
    "    genre_df_sorted = genre_df_grouped.sort_values(ascending=False) # ваш код здесь\n",
    "    # вернём Series с 10 самыми популярными жанрами в указанный отрезок времени заданного дня\n",
    "    return genre_df_sorted[:10]"
   ]
  },
  {
   "cell_type": "markdown",
   "metadata": {
    "deletable": false,
    "editable": false,
    "id": "la2s2_PF_Zcu",
    "tags": [
     "start_task"
    ],
    "pycharm": {
     "name": "#%% md\n"
    }
   },
   "source": [
    "**Задание 25**\n",
    "\n",
    "\n",
    "Cравните результаты функции `genre_weekday()` для Москвы и Санкт-Петербурга в понедельник утром (с 7:00 до 11:00) и в пятницу вечером (с 17:00 до 23:00):"
   ]
  },
  {
   "cell_type": "code",
   "execution_count": 191,
   "metadata": {
    "deletable": false,
    "id": "yz7itPUQ_Zcu",
    "pycharm": {
     "name": "#%%\n"
    }
   },
   "outputs": [
    {
     "data": {
      "text/plain": [
       "genre\n",
       "pop            781\n",
       "dance          549\n",
       "electronic     480\n",
       "rock           474\n",
       "hiphop         286\n",
       "ruspop         186\n",
       "world          181\n",
       "rusrap         175\n",
       "alternative    164\n",
       "unknown        161\n",
       "Name: genre, dtype: int64"
      ]
     },
     "execution_count": 191,
     "metadata": {},
     "output_type": "execute_result"
    }
   ],
   "source": [
    "# вызов функции для утра понедельника в Москве (вместо df — таблица moscow_general)\n",
    "# объекты, хранящие время, являются строками и сравниваются как строки\n",
    "# пример вызова: genre_weekday(moscow_general, 'Monday', '07:00', '11:00')\n",
    "genre_weekday(moscow_general, 'Monday', '07:00', '11:00')"
   ]
  },
  {
   "cell_type": "code",
   "execution_count": 192,
   "metadata": {
    "deletable": false,
    "id": "kwUcHPdy_Zcu",
    "pycharm": {
     "name": "#%%\n"
    }
   },
   "outputs": [
    {
     "data": {
      "text/plain": [
       "genre\n",
       "pop            218\n",
       "dance          182\n",
       "rock           162\n",
       "electronic     147\n",
       "hiphop          80\n",
       "ruspop          64\n",
       "alternative     58\n",
       "rusrap          55\n",
       "jazz            44\n",
       "classical       40\n",
       "Name: genre, dtype: int64"
      ]
     },
     "execution_count": 192,
     "metadata": {},
     "output_type": "execute_result"
    }
   ],
   "source": [
    "# вызов функции для утра понедельника в Петербурге (вместо df — таблица spb_general)\n",
    "genre_weekday(spb_general, 'Monday', '07:00', '11:00')"
   ]
  },
  {
   "cell_type": "code",
   "execution_count": 193,
   "metadata": {
    "deletable": false,
    "id": "EzXVRE1o_Zcu",
    "pycharm": {
     "name": "#%%\n"
    }
   },
   "outputs": [
    {
     "data": {
      "text/plain": [
       "genre\n",
       "pop            713\n",
       "rock           517\n",
       "dance          495\n",
       "electronic     482\n",
       "hiphop         273\n",
       "world          208\n",
       "ruspop         170\n",
       "alternative    163\n",
       "classical      163\n",
       "rusrap         142\n",
       "Name: genre, dtype: int64"
      ]
     },
     "execution_count": 193,
     "metadata": {},
     "output_type": "execute_result"
    }
   ],
   "source": [
    "# вызов функции для вечера пятницы в Москве\n",
    "genre_weekday(moscow_general, 'Friday', '17:00', '23:00')"
   ]
  },
  {
   "cell_type": "code",
   "execution_count": 194,
   "metadata": {
    "deletable": false,
    "id": "JZaEKu5v_Zcu",
    "pycharm": {
     "name": "#%%\n"
    }
   },
   "outputs": [
    {
     "data": {
      "text/plain": [
       "genre\n",
       "pop            256\n",
       "electronic     216\n",
       "rock           216\n",
       "dance          210\n",
       "hiphop          97\n",
       "alternative     63\n",
       "jazz            61\n",
       "classical       60\n",
       "rusrap          59\n",
       "world           54\n",
       "Name: genre, dtype: int64"
      ]
     },
     "execution_count": 194,
     "metadata": {},
     "output_type": "execute_result"
    }
   ],
   "source": [
    "# вызов функции для вечера пятницы в Петербурге\n",
    "genre_weekday(spb_general, 'Friday', '17:00', '23:00')"
   ]
  },
  {
   "cell_type": "markdown",
   "metadata": {
    "deletable": false,
    "editable": false,
    "id": "wrCe4MNX_Zcu",
    "pycharm": {
     "name": "#%% md\n"
    }
   },
   "source": [
    "**Выводы**\n",
    "\n",
    "Если сравнить топ-10 жанров в понедельник утром, можно сделать такие выводы:\n",
    "\n",
    "1. В Москве и Петербурге слушают похожую музыку. Единственное отличие — в московский рейтинг вошёл жанр “world”, а в петербургский — джаз и классика.\n",
    "\n",
    "2. В Москве пропущенных значений оказалось так много, что значение `'unknown'` заняло десятое место среди самых популярных жанров. Значит, пропущенные значения занимают существенную долю в данных и угрожают достоверности исследования.\n",
    "\n",
    "Вечер пятницы не меняет эту картину. Некоторые жанры поднимаются немного выше, другие спускаются, но в целом топ-10 остаётся тем же самым.\n",
    "\n",
    "Таким образом, вторая гипотеза подтвердилась лишь частично:\n",
    "* Пользователи слушают похожую музыку в начале недели и в конце.\n",
    "* Разница между Москвой и Петербургом не слишком выражена. В Москве чаще слушают русскую популярную музыку, в Петербурге — джаз.\n",
    "\n",
    "Однако пропуски в данных ставят под сомнение этот результат. В Москве их так много, что рейтинг топ-10 мог бы выглядеть иначе, если бы не утерянные  данные о жанрах."
   ]
  },
  {
   "cell_type": "markdown",
   "metadata": {
    "deletable": false,
    "editable": false,
    "id": "JolODAqr_Zcu",
    "pycharm": {
     "name": "#%% md\n"
    }
   },
   "source": [
    "### Жанровые предпочтения в Москве и Петербурге\n",
    "\n",
    "Гипотеза: Петербург — столица рэпа, музыку этого жанра там слушают чаще, чем в Москве.  А Москва — город контрастов, в котором, тем не менее, преобладает поп-музыка."
   ]
  },
  {
   "cell_type": "markdown",
   "metadata": {
    "deletable": false,
    "editable": false,
    "id": "DlegSvaT_Zcu",
    "tags": [
     "start_task"
    ],
    "pycharm": {
     "name": "#%% md\n"
    }
   },
   "source": [
    "**Задание 26**\n",
    "\n",
    "Сгруппируйте таблицу `moscow_general` по жанру и посчитайте прослушивания треков каждого жанра методом `count()`. Затем отсортируйте результат в порядке убывания и сохраните его в таблице `moscow_genres`."
   ]
  },
  {
   "cell_type": "code",
   "execution_count": 205,
   "metadata": {
    "deletable": false,
    "id": "r19lIPke_Zcu",
    "scrolled": false,
    "pycharm": {
     "name": "#%%\n"
    }
   },
   "outputs": [],
   "source": [
    "# одной строкой: группировка таблицы moscow_general по столбцу 'genre', \n",
    "# подсчёт числа значений 'genre' в этой группировке методом count(),\n",
    "# сортировка получившегося Series в порядке убывания и сохранение в moscow_genres\n",
    "moscow_genres = moscow_general.groupby('genre')['genre'].count()\n",
    "moscow_genres = moscow_genres.sort_values(ascending = False)"
   ]
  },
  {
   "cell_type": "markdown",
   "metadata": {
    "deletable": false,
    "editable": false,
    "id": "6kMuomxTiIr8",
    "tags": [
     "start_task"
    ],
    "pycharm": {
     "name": "#%% md\n"
    }
   },
   "source": [
    "**Задание 27**\n",
    "\n",
    "Выведите на экран первые десять строк `moscow_genres`:"
   ]
  },
  {
   "cell_type": "code",
   "execution_count": 206,
   "metadata": {
    "deletable": false,
    "id": "WhCSooF8_Zcv",
    "scrolled": true,
    "pycharm": {
     "name": "#%%\n"
    }
   },
   "outputs": [
    {
     "data": {
      "text/plain": [
       "genre\n",
       "pop            5892\n",
       "dance          4435\n",
       "rock           3965\n",
       "electronic     3786\n",
       "hiphop         2096\n",
       "classical      1616\n",
       "world          1432\n",
       "alternative    1379\n",
       "ruspop         1372\n",
       "rusrap         1161\n",
       "Name: genre, dtype: int64"
      ]
     },
     "execution_count": 206,
     "metadata": {},
     "output_type": "execute_result"
    }
   ],
   "source": [
    "# просмотр первых 10 строк moscow_genres\n",
    "moscow_genres.head(10)"
   ]
  },
  {
   "cell_type": "markdown",
   "metadata": {
    "deletable": false,
    "editable": false,
    "id": "cnPG2vnN_Zcv",
    "tags": [
     "start_task"
    ],
    "pycharm": {
     "name": "#%% md\n"
    }
   },
   "source": [
    "**Задание 28**\n",
    "\n",
    "\n",
    "Теперь повторите то же и для Петербурга.\n",
    "\n",
    "Сгруппируйте таблицу `spb_general` по жанру. Посчитайте прослушивания треков каждого жанра. Результат отсортируйте в порядке убывания и сохраните в таблице `spb_genres`:\n"
   ]
  },
  {
   "cell_type": "code",
   "execution_count": 207,
   "metadata": {
    "deletable": false,
    "id": "gluLIpE7_Zcv",
    "pycharm": {
     "name": "#%%\n"
    }
   },
   "outputs": [],
   "source": [
    "# одной строкой: группировка таблицы spb_general по столбцу 'genre', \n",
    "# подсчёт числа значений 'genre' в этой группировке методом count(), \n",
    "# сортировка получившегося Series в порядке убывания и сохранение в spb_genres\n",
    "spb_genres = spb_general.groupby('genre')['genre'].count().sort_values(ascending = False)"
   ]
  },
  {
   "cell_type": "markdown",
   "metadata": {
    "deletable": false,
    "editable": false,
    "id": "5Doha_ODgyQ8",
    "tags": [
     "start_task"
    ],
    "pycharm": {
     "name": "#%% md\n"
    }
   },
   "source": [
    "**Задание 29**\n",
    "\n",
    "Выведите на экран первые десять строк `spb_genres`:"
   ]
  },
  {
   "cell_type": "code",
   "execution_count": 208,
   "metadata": {
    "deletable": false,
    "id": "uaGJHjVU_Zcv",
    "pycharm": {
     "name": "#%%\n"
    }
   },
   "outputs": [
    {
     "data": {
      "text/plain": [
       "genre\n",
       "pop            2431\n",
       "dance          1932\n",
       "rock           1879\n",
       "electronic     1736\n",
       "hiphop          960\n",
       "alternative     649\n",
       "classical       646\n",
       "rusrap          564\n",
       "ruspop          538\n",
       "world           515\n",
       "Name: genre, dtype: int64"
      ]
     },
     "execution_count": 208,
     "metadata": {},
     "output_type": "execute_result"
    }
   ],
   "source": [
    "# просмотр первых 10 строк spb_genres\n",
    "spb_genres.head(10)"
   ]
  },
  {
   "cell_type": "markdown",
   "metadata": {
    "deletable": false,
    "editable": false,
    "id": "RY51YJYu_Zcv",
    "pycharm": {
     "name": "#%% md\n"
    }
   },
   "source": [
    "**Выводы**"
   ]
  },
  {
   "cell_type": "markdown",
   "metadata": {
    "deletable": false,
    "editable": false,
    "id": "nVhnJEm__Zcv",
    "pycharm": {
     "name": "#%% md\n"
    }
   },
   "source": [
    "Гипотеза частично подтвердилась:\n",
    "* Поп-музыка — самый популярный жанр в Москве, как и предполагала гипотеза. Более того, в топ-10 жанров встречается близкий жанр — русская популярная музыка.\n",
    "* Вопреки ожиданиям, рэп одинаково популярен в Москве и Петербурге. \n"
   ]
  },
  {
   "cell_type": "markdown",
   "metadata": {
    "deletable": false,
    "editable": false,
    "id": "ykKQ0N65_Zcv",
    "pycharm": {
     "name": "#%% md\n"
    }
   },
   "source": [
    "## Итоги исследования"
   ]
  },
  {
   "cell_type": "markdown",
   "metadata": {
    "deletable": false,
    "editable": false,
    "id": "tjUwbHb3_Zcv",
    "pycharm": {
     "name": "#%% md\n"
    }
   },
   "source": [
    "Вы проверили три гипотезы и установили:\n",
    "\n",
    "1. День недели по-разному влияет на активность пользователей в Москве и Петербурге. \n",
    "\n",
    "Первая гипотеза полностью подтвердилась.\n",
    "\n",
    "2. Музыкальные предпочтения не сильно меняются в течение недели — будь то Москва или Петербург. Небольшие различия заметны в начале недели, по понедельникам:\n",
    "* в Москве слушают музыку жанра “world”,\n",
    "* в Петербурге — джаз и классику.\n",
    "\n",
    "Таким образом, вторая гипотеза подтвердилась лишь отчасти. Этот результат мог оказаться иным, если бы не пропуски в данных.\n",
    "\n",
    "3. Во вкусах пользователей Москвы и Петербурга больше общего чем различий. Вопреки ожиданиям, предпочтения жанров в Петербурге напоминают московские.\n",
    "\n",
    "Третья гипотеза не подтвердилась. Если различия в предпочтениях и существуют, на основной массе пользователей они незаметны.\n",
    "\n",
    "**На практике исследования содержат проверки статистических гипотез.**\n",
    "Из данных одного сервиса не всегда можно сделать вывод о всех жителях города.\n",
    "Проверки статистических гипотез покажут, насколько они достоверны, исходя из имеющихся данных. \n",
    "С методами проверок гипотез вы ещё познакомитесь в следующих темах."
   ]
  }
 ],
 "metadata": {
  "ExecuteTimeLog": [
   {
    "duration": 450,
    "start_time": "2022-12-20T09:03:13.994Z"
   },
   {
    "duration": 91,
    "start_time": "2022-12-20T09:04:32.056Z"
   },
   {
    "duration": 177,
    "start_time": "2022-12-20T09:05:45.547Z"
   },
   {
    "duration": 18,
    "start_time": "2022-12-20T09:06:18.025Z"
   },
   {
    "duration": 32,
    "start_time": "2022-12-20T09:07:24.874Z"
   },
   {
    "duration": 8,
    "start_time": "2022-12-20T09:11:28.708Z"
   },
   {
    "duration": 4,
    "start_time": "2022-12-20T09:12:15.868Z"
   },
   {
    "duration": 24,
    "start_time": "2022-12-20T09:16:32.308Z"
   },
   {
    "duration": 11,
    "start_time": "2022-12-20T09:19:10.420Z"
   },
   {
    "duration": 12,
    "start_time": "2022-12-20T09:19:18.173Z"
   },
   {
    "duration": 4,
    "start_time": "2022-12-20T09:19:49.873Z"
   },
   {
    "duration": 25,
    "start_time": "2022-12-20T09:20:56.811Z"
   },
   {
    "duration": 53,
    "start_time": "2022-12-20T09:28:03.015Z"
   },
   {
    "duration": 73,
    "start_time": "2022-12-20T09:28:21.710Z"
   },
   {
    "duration": 43,
    "start_time": "2022-12-20T09:30:13.180Z"
   },
   {
    "duration": 18,
    "start_time": "2022-12-20T09:30:39.140Z"
   },
   {
    "duration": 25,
    "start_time": "2022-12-20T09:31:26.090Z"
   },
   {
    "duration": 66,
    "start_time": "2022-12-20T09:33:55.415Z"
   },
   {
    "duration": 68,
    "start_time": "2022-12-20T09:35:06.115Z"
   },
   {
    "duration": 68,
    "start_time": "2022-12-20T09:42:44.591Z"
   },
   {
    "duration": 52,
    "start_time": "2022-12-20T09:43:06.785Z"
   },
   {
    "duration": 75,
    "start_time": "2022-12-20T09:50:45.286Z"
   },
   {
    "duration": 7,
    "start_time": "2022-12-20T09:51:49.203Z"
   },
   {
    "duration": 53,
    "start_time": "2022-12-20T09:52:45.172Z"
   },
   {
    "duration": 10,
    "start_time": "2022-12-20T10:08:51.347Z"
   },
   {
    "duration": 8,
    "start_time": "2022-12-20T11:27:41.653Z"
   },
   {
    "duration": 9,
    "start_time": "2022-12-20T11:28:48.253Z"
   },
   {
    "duration": 14,
    "start_time": "2022-12-20T11:29:03.928Z"
   },
   {
    "duration": 46,
    "start_time": "2022-12-20T13:19:44.104Z"
   },
   {
    "duration": 7,
    "start_time": "2022-12-20T13:23:30.133Z"
   },
   {
    "duration": 6,
    "start_time": "2022-12-20T13:27:25.245Z"
   },
   {
    "duration": 5,
    "start_time": "2022-12-20T13:27:27.504Z"
   },
   {
    "duration": 2,
    "start_time": "2022-12-20T13:28:08.298Z"
   },
   {
    "duration": 5,
    "start_time": "2022-12-20T13:30:31.720Z"
   },
   {
    "duration": 7,
    "start_time": "2022-12-20T13:39:30.598Z"
   },
   {
    "duration": 6,
    "start_time": "2022-12-20T13:42:22.677Z"
   },
   {
    "duration": 392,
    "start_time": "2022-12-20T13:52:13.192Z"
   },
   {
    "duration": 221,
    "start_time": "2022-12-20T13:52:13.586Z"
   },
   {
    "duration": 19,
    "start_time": "2022-12-20T13:52:13.809Z"
   },
   {
    "duration": 39,
    "start_time": "2022-12-20T13:52:13.829Z"
   },
   {
    "duration": 6,
    "start_time": "2022-12-20T13:52:13.871Z"
   },
   {
    "duration": 12,
    "start_time": "2022-12-20T13:52:13.879Z"
   },
   {
    "duration": 25,
    "start_time": "2022-12-20T13:52:13.893Z"
   },
   {
    "duration": 13,
    "start_time": "2022-12-20T13:52:13.920Z"
   },
   {
    "duration": 37,
    "start_time": "2022-12-20T13:52:13.935Z"
   },
   {
    "duration": 23,
    "start_time": "2022-12-20T13:52:13.974Z"
   },
   {
    "duration": 33,
    "start_time": "2022-12-20T13:52:13.999Z"
   },
   {
    "duration": 80,
    "start_time": "2022-12-20T13:52:14.034Z"
   },
   {
    "duration": 71,
    "start_time": "2022-12-20T13:52:14.116Z"
   },
   {
    "duration": 68,
    "start_time": "2022-12-20T13:52:14.192Z"
   },
   {
    "duration": 62,
    "start_time": "2022-12-20T13:52:14.262Z"
   },
   {
    "duration": 103,
    "start_time": "2022-12-20T13:52:14.326Z"
   },
   {
    "duration": 50,
    "start_time": "2022-12-20T13:52:14.431Z"
   },
   {
    "duration": 11,
    "start_time": "2022-12-20T13:52:14.483Z"
   },
   {
    "duration": 33,
    "start_time": "2022-12-20T13:52:14.496Z"
   },
   {
    "duration": 3,
    "start_time": "2022-12-20T13:52:14.531Z"
   },
   {
    "duration": 9,
    "start_time": "2022-12-20T13:52:14.535Z"
   },
   {
    "duration": 7,
    "start_time": "2022-12-20T13:52:14.545Z"
   },
   {
    "duration": 26,
    "start_time": "2022-12-20T13:52:14.553Z"
   },
   {
    "duration": 11,
    "start_time": "2022-12-20T13:52:14.581Z"
   },
   {
    "duration": 14,
    "start_time": "2022-12-20T13:52:14.594Z"
   },
   {
    "duration": 6,
    "start_time": "2022-12-20T13:52:14.610Z"
   },
   {
    "duration": 16,
    "start_time": "2022-12-20T13:52:14.617Z"
   },
   {
    "duration": 9,
    "start_time": "2022-12-20T13:52:14.634Z"
   },
   {
    "duration": 6,
    "start_time": "2022-12-20T13:52:14.645Z"
   },
   {
    "duration": 45,
    "start_time": "2022-12-20T13:52:14.653Z"
   },
   {
    "duration": 0,
    "start_time": "2022-12-20T13:52:14.700Z"
   },
   {
    "duration": 0,
    "start_time": "2022-12-20T13:52:14.702Z"
   },
   {
    "duration": 0,
    "start_time": "2022-12-20T13:52:14.703Z"
   },
   {
    "duration": 0,
    "start_time": "2022-12-20T13:52:14.704Z"
   },
   {
    "duration": 0,
    "start_time": "2022-12-20T13:52:14.706Z"
   },
   {
    "duration": 0,
    "start_time": "2022-12-20T13:52:14.707Z"
   },
   {
    "duration": 0,
    "start_time": "2022-12-20T13:52:14.708Z"
   },
   {
    "duration": 0,
    "start_time": "2022-12-20T13:52:14.710Z"
   },
   {
    "duration": 45,
    "start_time": "2022-12-20T14:12:55.652Z"
   },
   {
    "duration": 70,
    "start_time": "2022-12-20T14:13:17.291Z"
   },
   {
    "duration": 47,
    "start_time": "2022-12-20T14:14:50.165Z"
   },
   {
    "duration": 42,
    "start_time": "2022-12-20T14:15:51.775Z"
   },
   {
    "duration": 5,
    "start_time": "2022-12-20T14:15:57.905Z"
   },
   {
    "duration": 4,
    "start_time": "2022-12-20T14:16:10.149Z"
   },
   {
    "duration": 48,
    "start_time": "2022-12-20T14:21:50.742Z"
   },
   {
    "duration": 3,
    "start_time": "2022-12-20T14:21:58.615Z"
   },
   {
    "duration": 9,
    "start_time": "2022-12-20T14:27:04.820Z"
   },
   {
    "duration": 4,
    "start_time": "2022-12-20T14:29:37.879Z"
   },
   {
    "duration": 8,
    "start_time": "2022-12-20T14:31:24.486Z"
   },
   {
    "duration": 9,
    "start_time": "2022-12-20T14:32:02.288Z"
   },
   {
    "duration": 8,
    "start_time": "2022-12-20T14:32:48.393Z"
   },
   {
    "duration": 8,
    "start_time": "2022-12-20T14:34:28.397Z"
   },
   {
    "duration": 9,
    "start_time": "2022-12-20T14:36:20.132Z"
   },
   {
    "duration": 2,
    "start_time": "2022-12-20T14:39:27.054Z"
   },
   {
    "duration": 183,
    "start_time": "2022-12-20T14:39:27.057Z"
   },
   {
    "duration": 9,
    "start_time": "2022-12-20T14:39:27.242Z"
   },
   {
    "duration": 31,
    "start_time": "2022-12-20T14:39:27.253Z"
   },
   {
    "duration": 9,
    "start_time": "2022-12-20T14:39:27.286Z"
   },
   {
    "duration": 19,
    "start_time": "2022-12-20T14:39:27.296Z"
   },
   {
    "duration": 25,
    "start_time": "2022-12-20T14:39:27.317Z"
   },
   {
    "duration": 8,
    "start_time": "2022-12-20T14:39:27.344Z"
   },
   {
    "duration": 34,
    "start_time": "2022-12-20T14:39:27.353Z"
   },
   {
    "duration": 19,
    "start_time": "2022-12-20T14:39:27.389Z"
   },
   {
    "duration": 24,
    "start_time": "2022-12-20T14:39:27.411Z"
   },
   {
    "duration": 61,
    "start_time": "2022-12-20T14:39:27.437Z"
   },
   {
    "duration": 73,
    "start_time": "2022-12-20T14:39:27.500Z"
   },
   {
    "duration": 59,
    "start_time": "2022-12-20T14:39:27.575Z"
   },
   {
    "duration": 51,
    "start_time": "2022-12-20T14:39:27.636Z"
   },
   {
    "duration": 83,
    "start_time": "2022-12-20T14:39:27.689Z"
   },
   {
    "duration": 58,
    "start_time": "2022-12-20T14:39:27.774Z"
   },
   {
    "duration": 11,
    "start_time": "2022-12-20T14:39:27.833Z"
   },
   {
    "duration": 12,
    "start_time": "2022-12-20T14:39:27.846Z"
   },
   {
    "duration": 8,
    "start_time": "2022-12-20T14:39:27.859Z"
   },
   {
    "duration": 13,
    "start_time": "2022-12-20T14:39:27.869Z"
   },
   {
    "duration": 10,
    "start_time": "2022-12-20T14:39:27.883Z"
   },
   {
    "duration": 27,
    "start_time": "2022-12-20T14:39:27.895Z"
   },
   {
    "duration": 7,
    "start_time": "2022-12-20T14:39:27.924Z"
   },
   {
    "duration": 18,
    "start_time": "2022-12-20T14:39:27.932Z"
   },
   {
    "duration": 14,
    "start_time": "2022-12-20T14:39:27.951Z"
   },
   {
    "duration": 9,
    "start_time": "2022-12-20T14:39:27.967Z"
   },
   {
    "duration": 7,
    "start_time": "2022-12-20T14:39:27.978Z"
   },
   {
    "duration": 16,
    "start_time": "2022-12-20T14:39:27.987Z"
   },
   {
    "duration": 52,
    "start_time": "2022-12-20T14:39:28.004Z"
   },
   {
    "duration": 0,
    "start_time": "2022-12-20T14:39:28.058Z"
   },
   {
    "duration": 0,
    "start_time": "2022-12-20T14:39:28.059Z"
   },
   {
    "duration": 0,
    "start_time": "2022-12-20T14:39:28.060Z"
   },
   {
    "duration": 0,
    "start_time": "2022-12-20T14:39:28.061Z"
   },
   {
    "duration": 0,
    "start_time": "2022-12-20T14:39:28.062Z"
   },
   {
    "duration": 0,
    "start_time": "2022-12-20T14:39:28.063Z"
   },
   {
    "duration": 0,
    "start_time": "2022-12-20T14:39:28.064Z"
   },
   {
    "duration": 0,
    "start_time": "2022-12-20T14:39:28.065Z"
   },
   {
    "duration": 9,
    "start_time": "2022-12-20T14:41:57.634Z"
   },
   {
    "duration": 12,
    "start_time": "2022-12-20T14:45:16.490Z"
   },
   {
    "duration": 8,
    "start_time": "2022-12-20T14:45:43.251Z"
   },
   {
    "duration": 3,
    "start_time": "2022-12-20T14:48:59.042Z"
   },
   {
    "duration": 8,
    "start_time": "2022-12-20T14:49:08.962Z"
   },
   {
    "duration": 8,
    "start_time": "2022-12-20T14:49:11.050Z"
   },
   {
    "duration": 8,
    "start_time": "2022-12-20T14:49:11.830Z"
   },
   {
    "duration": 8,
    "start_time": "2022-12-20T14:49:12.413Z"
   },
   {
    "duration": 9,
    "start_time": "2022-12-20T14:49:12.868Z"
   },
   {
    "duration": 50,
    "start_time": "2022-12-20T14:51:11.342Z"
   },
   {
    "duration": 8,
    "start_time": "2022-12-20T14:51:26.297Z"
   },
   {
    "duration": 9,
    "start_time": "2022-12-20T14:54:30.137Z"
   },
   {
    "duration": 2,
    "start_time": "2022-12-20T14:54:36.139Z"
   },
   {
    "duration": 181,
    "start_time": "2022-12-20T14:54:36.143Z"
   },
   {
    "duration": 15,
    "start_time": "2022-12-20T14:54:36.326Z"
   },
   {
    "duration": 37,
    "start_time": "2022-12-20T14:54:36.343Z"
   },
   {
    "duration": 3,
    "start_time": "2022-12-20T14:54:36.383Z"
   },
   {
    "duration": 14,
    "start_time": "2022-12-20T14:54:36.387Z"
   },
   {
    "duration": 18,
    "start_time": "2022-12-20T14:54:36.403Z"
   },
   {
    "duration": 18,
    "start_time": "2022-12-20T14:54:36.422Z"
   },
   {
    "duration": 26,
    "start_time": "2022-12-20T14:54:36.442Z"
   },
   {
    "duration": 18,
    "start_time": "2022-12-20T14:54:36.470Z"
   },
   {
    "duration": 33,
    "start_time": "2022-12-20T14:54:36.489Z"
   },
   {
    "duration": 73,
    "start_time": "2022-12-20T14:54:36.525Z"
   },
   {
    "duration": 76,
    "start_time": "2022-12-20T14:54:36.600Z"
   },
   {
    "duration": 69,
    "start_time": "2022-12-20T14:54:36.679Z"
   },
   {
    "duration": 48,
    "start_time": "2022-12-20T14:54:36.749Z"
   },
   {
    "duration": 98,
    "start_time": "2022-12-20T14:54:36.799Z"
   },
   {
    "duration": 67,
    "start_time": "2022-12-20T14:54:36.899Z"
   },
   {
    "duration": 11,
    "start_time": "2022-12-20T14:54:36.968Z"
   },
   {
    "duration": 12,
    "start_time": "2022-12-20T14:54:36.981Z"
   },
   {
    "duration": 25,
    "start_time": "2022-12-20T14:54:36.995Z"
   },
   {
    "duration": 25,
    "start_time": "2022-12-20T14:54:37.023Z"
   },
   {
    "duration": 0,
    "start_time": "2022-12-20T14:54:37.050Z"
   },
   {
    "duration": 0,
    "start_time": "2022-12-20T14:54:37.051Z"
   },
   {
    "duration": 0,
    "start_time": "2022-12-20T14:54:37.052Z"
   },
   {
    "duration": 0,
    "start_time": "2022-12-20T14:54:37.054Z"
   },
   {
    "duration": 0,
    "start_time": "2022-12-20T14:54:37.055Z"
   },
   {
    "duration": 0,
    "start_time": "2022-12-20T14:54:37.056Z"
   },
   {
    "duration": 0,
    "start_time": "2022-12-20T14:54:37.057Z"
   },
   {
    "duration": 0,
    "start_time": "2022-12-20T14:54:37.058Z"
   },
   {
    "duration": 0,
    "start_time": "2022-12-20T14:54:37.060Z"
   },
   {
    "duration": 0,
    "start_time": "2022-12-20T14:54:37.061Z"
   },
   {
    "duration": 0,
    "start_time": "2022-12-20T14:54:37.063Z"
   },
   {
    "duration": 0,
    "start_time": "2022-12-20T14:54:37.063Z"
   },
   {
    "duration": 1,
    "start_time": "2022-12-20T14:54:37.064Z"
   },
   {
    "duration": 0,
    "start_time": "2022-12-20T14:54:37.066Z"
   },
   {
    "duration": 0,
    "start_time": "2022-12-20T14:54:37.067Z"
   },
   {
    "duration": 0,
    "start_time": "2022-12-20T14:54:37.068Z"
   },
   {
    "duration": 0,
    "start_time": "2022-12-20T14:54:37.069Z"
   },
   {
    "duration": 3,
    "start_time": "2022-12-20T14:56:33.312Z"
   },
   {
    "duration": 2,
    "start_time": "2022-12-20T14:56:44.471Z"
   },
   {
    "duration": 159,
    "start_time": "2022-12-20T14:56:44.482Z"
   },
   {
    "duration": 10,
    "start_time": "2022-12-20T14:56:44.643Z"
   },
   {
    "duration": 33,
    "start_time": "2022-12-20T14:56:44.654Z"
   },
   {
    "duration": 14,
    "start_time": "2022-12-20T14:56:44.689Z"
   },
   {
    "duration": 15,
    "start_time": "2022-12-20T14:56:44.705Z"
   },
   {
    "duration": 15,
    "start_time": "2022-12-20T14:56:44.721Z"
   },
   {
    "duration": 7,
    "start_time": "2022-12-20T14:56:44.737Z"
   },
   {
    "duration": 32,
    "start_time": "2022-12-20T14:56:44.746Z"
   },
   {
    "duration": 18,
    "start_time": "2022-12-20T14:56:44.779Z"
   },
   {
    "duration": 33,
    "start_time": "2022-12-20T14:56:44.799Z"
   },
   {
    "duration": 77,
    "start_time": "2022-12-20T14:56:44.834Z"
   },
   {
    "duration": 61,
    "start_time": "2022-12-20T14:56:44.920Z"
   },
   {
    "duration": 68,
    "start_time": "2022-12-20T14:56:44.982Z"
   },
   {
    "duration": 47,
    "start_time": "2022-12-20T14:56:45.052Z"
   },
   {
    "duration": 95,
    "start_time": "2022-12-20T14:56:45.100Z"
   },
   {
    "duration": 60,
    "start_time": "2022-12-20T14:56:45.197Z"
   },
   {
    "duration": 11,
    "start_time": "2022-12-20T14:56:45.258Z"
   },
   {
    "duration": 68,
    "start_time": "2022-12-20T14:56:45.271Z"
   },
   {
    "duration": 26,
    "start_time": "2022-12-20T14:56:45.341Z"
   },
   {
    "duration": 48,
    "start_time": "2022-12-20T14:56:45.369Z"
   },
   {
    "duration": 39,
    "start_time": "2022-12-20T14:56:45.419Z"
   },
   {
    "duration": 47,
    "start_time": "2022-12-20T14:56:45.460Z"
   },
   {
    "duration": 26,
    "start_time": "2022-12-20T14:56:45.509Z"
   },
   {
    "duration": 60,
    "start_time": "2022-12-20T14:56:45.536Z"
   },
   {
    "duration": 21,
    "start_time": "2022-12-20T14:56:45.597Z"
   },
   {
    "duration": 29,
    "start_time": "2022-12-20T14:56:45.620Z"
   },
   {
    "duration": 22,
    "start_time": "2022-12-20T14:56:45.650Z"
   },
   {
    "duration": 11,
    "start_time": "2022-12-20T14:56:45.673Z"
   },
   {
    "duration": 54,
    "start_time": "2022-12-20T14:56:45.686Z"
   },
   {
    "duration": 0,
    "start_time": "2022-12-20T14:56:45.741Z"
   },
   {
    "duration": 0,
    "start_time": "2022-12-20T14:56:45.743Z"
   },
   {
    "duration": 0,
    "start_time": "2022-12-20T14:56:45.744Z"
   },
   {
    "duration": 0,
    "start_time": "2022-12-20T14:56:45.745Z"
   },
   {
    "duration": 0,
    "start_time": "2022-12-20T14:56:45.746Z"
   },
   {
    "duration": 0,
    "start_time": "2022-12-20T14:56:45.747Z"
   },
   {
    "duration": 0,
    "start_time": "2022-12-20T14:56:45.749Z"
   },
   {
    "duration": 0,
    "start_time": "2022-12-20T14:56:45.751Z"
   },
   {
    "duration": 392,
    "start_time": "2022-12-20T19:18:52.845Z"
   },
   {
    "duration": 869,
    "start_time": "2022-12-20T19:18:53.239Z"
   },
   {
    "duration": 25,
    "start_time": "2022-12-20T19:18:54.110Z"
   },
   {
    "duration": 31,
    "start_time": "2022-12-20T19:18:54.137Z"
   },
   {
    "duration": 8,
    "start_time": "2022-12-20T19:18:54.170Z"
   },
   {
    "duration": 5,
    "start_time": "2022-12-20T19:18:54.180Z"
   },
   {
    "duration": 13,
    "start_time": "2022-12-20T19:18:54.187Z"
   },
   {
    "duration": 10,
    "start_time": "2022-12-20T19:18:54.202Z"
   },
   {
    "duration": 27,
    "start_time": "2022-12-20T19:18:54.214Z"
   },
   {
    "duration": 36,
    "start_time": "2022-12-20T19:18:54.243Z"
   },
   {
    "duration": 24,
    "start_time": "2022-12-20T19:18:54.281Z"
   },
   {
    "duration": 78,
    "start_time": "2022-12-20T19:18:54.307Z"
   },
   {
    "duration": 69,
    "start_time": "2022-12-20T19:18:54.386Z"
   },
   {
    "duration": 79,
    "start_time": "2022-12-20T19:18:54.456Z"
   },
   {
    "duration": 59,
    "start_time": "2022-12-20T19:18:54.537Z"
   },
   {
    "duration": 92,
    "start_time": "2022-12-20T19:18:54.597Z"
   },
   {
    "duration": 46,
    "start_time": "2022-12-20T19:18:54.691Z"
   },
   {
    "duration": 11,
    "start_time": "2022-12-20T19:18:54.739Z"
   },
   {
    "duration": 32,
    "start_time": "2022-12-20T19:18:54.751Z"
   },
   {
    "duration": 7,
    "start_time": "2022-12-20T19:18:54.785Z"
   },
   {
    "duration": 25,
    "start_time": "2022-12-20T19:18:54.794Z"
   },
   {
    "duration": 15,
    "start_time": "2022-12-20T19:18:54.820Z"
   },
   {
    "duration": 16,
    "start_time": "2022-12-20T19:18:54.836Z"
   },
   {
    "duration": 34,
    "start_time": "2022-12-20T19:18:54.853Z"
   },
   {
    "duration": 17,
    "start_time": "2022-12-20T19:18:54.888Z"
   },
   {
    "duration": 14,
    "start_time": "2022-12-20T19:18:54.907Z"
   },
   {
    "duration": 8,
    "start_time": "2022-12-20T19:18:54.922Z"
   },
   {
    "duration": 5,
    "start_time": "2022-12-20T19:18:54.933Z"
   },
   {
    "duration": 13,
    "start_time": "2022-12-20T19:18:54.940Z"
   },
   {
    "duration": 85,
    "start_time": "2022-12-20T19:18:54.956Z"
   },
   {
    "duration": 0,
    "start_time": "2022-12-20T19:18:55.043Z"
   },
   {
    "duration": 0,
    "start_time": "2022-12-20T19:18:55.044Z"
   },
   {
    "duration": 0,
    "start_time": "2022-12-20T19:18:55.045Z"
   },
   {
    "duration": 1,
    "start_time": "2022-12-20T19:18:55.045Z"
   },
   {
    "duration": 0,
    "start_time": "2022-12-20T19:18:55.047Z"
   },
   {
    "duration": 0,
    "start_time": "2022-12-20T19:18:55.048Z"
   },
   {
    "duration": 0,
    "start_time": "2022-12-20T19:18:55.049Z"
   },
   {
    "duration": 0,
    "start_time": "2022-12-20T19:18:55.050Z"
   },
   {
    "duration": 64,
    "start_time": "2022-12-20T19:34:01.012Z"
   },
   {
    "duration": 3,
    "start_time": "2022-12-20T19:34:40.835Z"
   },
   {
    "duration": 201,
    "start_time": "2022-12-20T19:34:40.840Z"
   },
   {
    "duration": 14,
    "start_time": "2022-12-20T19:34:41.043Z"
   },
   {
    "duration": 42,
    "start_time": "2022-12-20T19:34:41.059Z"
   },
   {
    "duration": 2,
    "start_time": "2022-12-20T19:34:41.103Z"
   },
   {
    "duration": 7,
    "start_time": "2022-12-20T19:34:41.107Z"
   },
   {
    "duration": 17,
    "start_time": "2022-12-20T19:34:41.116Z"
   },
   {
    "duration": 5,
    "start_time": "2022-12-20T19:34:41.135Z"
   },
   {
    "duration": 58,
    "start_time": "2022-12-20T19:34:41.141Z"
   },
   {
    "duration": 21,
    "start_time": "2022-12-20T19:34:41.201Z"
   },
   {
    "duration": 25,
    "start_time": "2022-12-20T19:34:41.225Z"
   },
   {
    "duration": 100,
    "start_time": "2022-12-20T19:34:41.252Z"
   },
   {
    "duration": 85,
    "start_time": "2022-12-20T19:34:41.354Z"
   },
   {
    "duration": 68,
    "start_time": "2022-12-20T19:34:41.441Z"
   },
   {
    "duration": 47,
    "start_time": "2022-12-20T19:34:41.510Z"
   },
   {
    "duration": 96,
    "start_time": "2022-12-20T19:34:41.559Z"
   },
   {
    "duration": 56,
    "start_time": "2022-12-20T19:34:41.656Z"
   },
   {
    "duration": 12,
    "start_time": "2022-12-20T19:34:41.713Z"
   },
   {
    "duration": 13,
    "start_time": "2022-12-20T19:34:41.726Z"
   },
   {
    "duration": 3,
    "start_time": "2022-12-20T19:34:41.741Z"
   },
   {
    "duration": 41,
    "start_time": "2022-12-20T19:34:41.746Z"
   },
   {
    "duration": 17,
    "start_time": "2022-12-20T19:34:41.788Z"
   },
   {
    "duration": 16,
    "start_time": "2022-12-20T19:34:41.806Z"
   },
   {
    "duration": 15,
    "start_time": "2022-12-20T19:34:41.824Z"
   },
   {
    "duration": 44,
    "start_time": "2022-12-20T19:34:41.840Z"
   },
   {
    "duration": 16,
    "start_time": "2022-12-20T19:34:41.886Z"
   },
   {
    "duration": 9,
    "start_time": "2022-12-20T19:34:41.903Z"
   },
   {
    "duration": 0,
    "start_time": "2022-12-20T19:34:41.915Z"
   },
   {
    "duration": 0,
    "start_time": "2022-12-20T19:34:41.916Z"
   },
   {
    "duration": 0,
    "start_time": "2022-12-20T19:34:41.917Z"
   },
   {
    "duration": 0,
    "start_time": "2022-12-20T19:34:41.918Z"
   },
   {
    "duration": 0,
    "start_time": "2022-12-20T19:34:41.919Z"
   },
   {
    "duration": 0,
    "start_time": "2022-12-20T19:34:41.920Z"
   },
   {
    "duration": 0,
    "start_time": "2022-12-20T19:34:41.921Z"
   },
   {
    "duration": 0,
    "start_time": "2022-12-20T19:34:41.923Z"
   },
   {
    "duration": 0,
    "start_time": "2022-12-20T19:34:41.924Z"
   },
   {
    "duration": 0,
    "start_time": "2022-12-20T19:34:41.925Z"
   },
   {
    "duration": 0,
    "start_time": "2022-12-20T19:34:41.926Z"
   },
   {
    "duration": 9,
    "start_time": "2022-12-20T19:35:34.738Z"
   },
   {
    "duration": 3,
    "start_time": "2022-12-20T19:40:45.766Z"
   },
   {
    "duration": 168,
    "start_time": "2022-12-20T19:40:45.772Z"
   },
   {
    "duration": 10,
    "start_time": "2022-12-20T19:40:45.942Z"
   },
   {
    "duration": 32,
    "start_time": "2022-12-20T19:40:45.954Z"
   },
   {
    "duration": 2,
    "start_time": "2022-12-20T19:40:45.988Z"
   },
   {
    "duration": 13,
    "start_time": "2022-12-20T19:40:45.992Z"
   },
   {
    "duration": 13,
    "start_time": "2022-12-20T19:40:46.007Z"
   },
   {
    "duration": 8,
    "start_time": "2022-12-20T19:40:46.021Z"
   },
   {
    "duration": 28,
    "start_time": "2022-12-20T19:40:46.031Z"
   },
   {
    "duration": 24,
    "start_time": "2022-12-20T19:40:46.060Z"
   },
   {
    "duration": 22,
    "start_time": "2022-12-20T19:40:46.087Z"
   },
   {
    "duration": 75,
    "start_time": "2022-12-20T19:40:46.111Z"
   },
   {
    "duration": 62,
    "start_time": "2022-12-20T19:40:46.188Z"
   },
   {
    "duration": 66,
    "start_time": "2022-12-20T19:40:46.252Z"
   },
   {
    "duration": 46,
    "start_time": "2022-12-20T19:40:46.319Z"
   },
   {
    "duration": 77,
    "start_time": "2022-12-20T19:40:46.377Z"
   },
   {
    "duration": 54,
    "start_time": "2022-12-20T19:40:46.456Z"
   },
   {
    "duration": 10,
    "start_time": "2022-12-20T19:40:46.511Z"
   },
   {
    "duration": 13,
    "start_time": "2022-12-20T19:40:46.523Z"
   },
   {
    "duration": 3,
    "start_time": "2022-12-20T19:40:46.537Z"
   },
   {
    "duration": 36,
    "start_time": "2022-12-20T19:40:46.542Z"
   },
   {
    "duration": 14,
    "start_time": "2022-12-20T19:40:46.580Z"
   },
   {
    "duration": 13,
    "start_time": "2022-12-20T19:40:46.596Z"
   },
   {
    "duration": 13,
    "start_time": "2022-12-20T19:40:46.611Z"
   },
   {
    "duration": 16,
    "start_time": "2022-12-20T19:40:46.626Z"
   },
   {
    "duration": 44,
    "start_time": "2022-12-20T19:40:46.644Z"
   },
   {
    "duration": 8,
    "start_time": "2022-12-20T19:40:46.689Z"
   },
   {
    "duration": 0,
    "start_time": "2022-12-20T19:40:46.699Z"
   },
   {
    "duration": 0,
    "start_time": "2022-12-20T19:40:46.700Z"
   },
   {
    "duration": 0,
    "start_time": "2022-12-20T19:40:46.701Z"
   },
   {
    "duration": 0,
    "start_time": "2022-12-20T19:40:46.702Z"
   },
   {
    "duration": 0,
    "start_time": "2022-12-20T19:40:46.703Z"
   },
   {
    "duration": 0,
    "start_time": "2022-12-20T19:40:46.704Z"
   },
   {
    "duration": 0,
    "start_time": "2022-12-20T19:40:46.705Z"
   },
   {
    "duration": 0,
    "start_time": "2022-12-20T19:40:46.706Z"
   },
   {
    "duration": 0,
    "start_time": "2022-12-20T19:40:46.707Z"
   },
   {
    "duration": 0,
    "start_time": "2022-12-20T19:40:46.708Z"
   },
   {
    "duration": 0,
    "start_time": "2022-12-20T19:40:46.709Z"
   },
   {
    "duration": 9,
    "start_time": "2022-12-20T19:41:22.072Z"
   },
   {
    "duration": 17,
    "start_time": "2022-12-20T19:44:42.060Z"
   },
   {
    "duration": 10,
    "start_time": "2022-12-20T19:45:31.494Z"
   },
   {
    "duration": 9,
    "start_time": "2022-12-20T19:48:55.694Z"
   },
   {
    "duration": 10,
    "start_time": "2022-12-20T19:50:47.962Z"
   },
   {
    "duration": 9,
    "start_time": "2022-12-20T19:51:29.728Z"
   },
   {
    "duration": 4,
    "start_time": "2022-12-20T20:09:53.801Z"
   },
   {
    "duration": 4,
    "start_time": "2022-12-20T20:11:29.230Z"
   },
   {
    "duration": 4,
    "start_time": "2022-12-20T20:12:37.461Z"
   },
   {
    "duration": 72,
    "start_time": "2022-12-20T20:15:56.347Z"
   },
   {
    "duration": 87,
    "start_time": "2022-12-20T20:17:56.206Z"
   },
   {
    "duration": 78,
    "start_time": "2022-12-20T20:18:03.297Z"
   },
   {
    "duration": 70,
    "start_time": "2022-12-20T20:19:06.493Z"
   },
   {
    "duration": 21,
    "start_time": "2022-12-20T20:21:37.767Z"
   },
   {
    "duration": 14,
    "start_time": "2022-12-20T20:21:50.651Z"
   },
   {
    "duration": 19,
    "start_time": "2022-12-20T20:21:58.814Z"
   },
   {
    "duration": 12,
    "start_time": "2022-12-20T20:22:08.295Z"
   },
   {
    "duration": 5,
    "start_time": "2022-12-20T20:23:30.139Z"
   },
   {
    "duration": 17,
    "start_time": "2022-12-20T20:23:34.584Z"
   },
   {
    "duration": 16,
    "start_time": "2022-12-20T20:23:36.712Z"
   },
   {
    "duration": 19,
    "start_time": "2022-12-20T20:23:38.452Z"
   },
   {
    "duration": 11,
    "start_time": "2022-12-20T20:23:40.260Z"
   },
   {
    "duration": 26,
    "start_time": "2022-12-20T20:38:30.122Z"
   },
   {
    "duration": 30,
    "start_time": "2022-12-20T20:40:23.956Z"
   },
   {
    "duration": 8,
    "start_time": "2022-12-20T20:41:03.072Z"
   },
   {
    "duration": 12,
    "start_time": "2022-12-20T20:42:54.234Z"
   },
   {
    "duration": 21,
    "start_time": "2022-12-20T20:43:18.686Z"
   },
   {
    "duration": 9,
    "start_time": "2022-12-20T20:44:45.108Z"
   },
   {
    "duration": 25,
    "start_time": "2022-12-20T20:45:10.803Z"
   },
   {
    "duration": 3,
    "start_time": "2022-12-20T20:45:19.079Z"
   },
   {
    "duration": 179,
    "start_time": "2022-12-20T20:45:19.084Z"
   },
   {
    "duration": 13,
    "start_time": "2022-12-20T20:45:19.265Z"
   },
   {
    "duration": 29,
    "start_time": "2022-12-20T20:45:19.280Z"
   },
   {
    "duration": 3,
    "start_time": "2022-12-20T20:45:19.311Z"
   },
   {
    "duration": 12,
    "start_time": "2022-12-20T20:45:19.315Z"
   },
   {
    "duration": 11,
    "start_time": "2022-12-20T20:45:19.329Z"
   },
   {
    "duration": 4,
    "start_time": "2022-12-20T20:45:19.342Z"
   },
   {
    "duration": 46,
    "start_time": "2022-12-20T20:45:19.347Z"
   },
   {
    "duration": 19,
    "start_time": "2022-12-20T20:45:19.395Z"
   },
   {
    "duration": 22,
    "start_time": "2022-12-20T20:45:19.417Z"
   },
   {
    "duration": 74,
    "start_time": "2022-12-20T20:45:19.441Z"
   },
   {
    "duration": 68,
    "start_time": "2022-12-20T20:45:19.517Z"
   },
   {
    "duration": 57,
    "start_time": "2022-12-20T20:45:19.586Z"
   },
   {
    "duration": 56,
    "start_time": "2022-12-20T20:45:19.644Z"
   },
   {
    "duration": 86,
    "start_time": "2022-12-20T20:45:19.701Z"
   },
   {
    "duration": 44,
    "start_time": "2022-12-20T20:45:19.788Z"
   },
   {
    "duration": 10,
    "start_time": "2022-12-20T20:45:19.833Z"
   },
   {
    "duration": 33,
    "start_time": "2022-12-20T20:45:19.845Z"
   },
   {
    "duration": 3,
    "start_time": "2022-12-20T20:45:19.880Z"
   },
   {
    "duration": 28,
    "start_time": "2022-12-20T20:45:19.885Z"
   },
   {
    "duration": 14,
    "start_time": "2022-12-20T20:45:19.915Z"
   },
   {
    "duration": 15,
    "start_time": "2022-12-20T20:45:19.931Z"
   },
   {
    "duration": 13,
    "start_time": "2022-12-20T20:45:19.947Z"
   },
   {
    "duration": 33,
    "start_time": "2022-12-20T20:45:19.961Z"
   },
   {
    "duration": 15,
    "start_time": "2022-12-20T20:45:19.995Z"
   },
   {
    "duration": 8,
    "start_time": "2022-12-20T20:45:20.011Z"
   },
   {
    "duration": 16,
    "start_time": "2022-12-20T20:45:20.021Z"
   },
   {
    "duration": 16,
    "start_time": "2022-12-20T20:45:20.041Z"
   },
   {
    "duration": 5,
    "start_time": "2022-12-20T20:45:20.077Z"
   },
   {
    "duration": 26,
    "start_time": "2022-12-20T20:45:20.084Z"
   },
   {
    "duration": 13,
    "start_time": "2022-12-20T20:45:20.111Z"
   },
   {
    "duration": 21,
    "start_time": "2022-12-20T20:45:20.125Z"
   },
   {
    "duration": 31,
    "start_time": "2022-12-20T20:45:20.148Z"
   },
   {
    "duration": 23,
    "start_time": "2022-12-20T20:45:20.180Z"
   },
   {
    "duration": 13,
    "start_time": "2022-12-20T20:45:20.205Z"
   },
   {
    "duration": 6,
    "start_time": "2022-12-20T20:45:20.220Z"
   },
   {
    "duration": 12,
    "start_time": "2022-12-20T20:45:20.228Z"
   },
   {
    "duration": 29,
    "start_time": "2022-12-20T20:48:13.906Z"
   },
   {
    "duration": 8,
    "start_time": "2022-12-20T20:48:21.938Z"
   },
   {
    "duration": 1139,
    "start_time": "2022-12-20T20:49:34.597Z"
   },
   {
    "duration": 1197,
    "start_time": "2022-12-20T20:50:00.812Z"
   },
   {
    "duration": 30,
    "start_time": "2022-12-20T20:51:08.724Z"
   },
   {
    "duration": 23,
    "start_time": "2022-12-20T20:51:49.062Z"
   },
   {
    "duration": 8,
    "start_time": "2022-12-20T20:51:53.038Z"
   },
   {
    "duration": 3,
    "start_time": "2022-12-20T20:53:03.088Z"
   },
   {
    "duration": 201,
    "start_time": "2022-12-20T20:53:03.093Z"
   },
   {
    "duration": 11,
    "start_time": "2022-12-20T20:53:03.296Z"
   },
   {
    "duration": 38,
    "start_time": "2022-12-20T20:53:03.308Z"
   },
   {
    "duration": 2,
    "start_time": "2022-12-20T20:53:03.348Z"
   },
   {
    "duration": 8,
    "start_time": "2022-12-20T20:53:03.351Z"
   },
   {
    "duration": 22,
    "start_time": "2022-12-20T20:53:03.361Z"
   },
   {
    "duration": 5,
    "start_time": "2022-12-20T20:53:03.385Z"
   },
   {
    "duration": 24,
    "start_time": "2022-12-20T20:53:03.392Z"
   },
   {
    "duration": 22,
    "start_time": "2022-12-20T20:53:03.418Z"
   },
   {
    "duration": 46,
    "start_time": "2022-12-20T20:53:03.443Z"
   },
   {
    "duration": 72,
    "start_time": "2022-12-20T20:53:03.490Z"
   },
   {
    "duration": 73,
    "start_time": "2022-12-20T20:53:03.563Z"
   },
   {
    "duration": 77,
    "start_time": "2022-12-20T20:53:03.638Z"
   },
   {
    "duration": 47,
    "start_time": "2022-12-20T20:53:03.716Z"
   },
   {
    "duration": 99,
    "start_time": "2022-12-20T20:53:03.765Z"
   },
   {
    "duration": 80,
    "start_time": "2022-12-20T20:53:03.866Z"
   },
   {
    "duration": 27,
    "start_time": "2022-12-20T20:53:03.951Z"
   },
   {
    "duration": 16,
    "start_time": "2022-12-20T20:53:03.980Z"
   },
   {
    "duration": 9,
    "start_time": "2022-12-20T20:53:03.998Z"
   },
   {
    "duration": 48,
    "start_time": "2022-12-20T20:53:04.009Z"
   },
   {
    "duration": 25,
    "start_time": "2022-12-20T20:53:04.059Z"
   },
   {
    "duration": 20,
    "start_time": "2022-12-20T20:53:04.086Z"
   },
   {
    "duration": 31,
    "start_time": "2022-12-20T20:53:04.108Z"
   },
   {
    "duration": 18,
    "start_time": "2022-12-20T20:53:04.141Z"
   },
   {
    "duration": 36,
    "start_time": "2022-12-20T20:53:04.161Z"
   },
   {
    "duration": 9,
    "start_time": "2022-12-20T20:53:04.199Z"
   },
   {
    "duration": 24,
    "start_time": "2022-12-20T20:53:04.210Z"
   },
   {
    "duration": 10,
    "start_time": "2022-12-20T20:53:04.239Z"
   },
   {
    "duration": 26,
    "start_time": "2022-12-20T20:53:04.252Z"
   },
   {
    "duration": 29,
    "start_time": "2022-12-20T20:53:04.280Z"
   },
   {
    "duration": 14,
    "start_time": "2022-12-20T20:53:04.310Z"
   },
   {
    "duration": 24,
    "start_time": "2022-12-20T20:53:04.325Z"
   },
   {
    "duration": 28,
    "start_time": "2022-12-20T20:53:04.351Z"
   },
   {
    "duration": 28,
    "start_time": "2022-12-20T20:53:04.382Z"
   },
   {
    "duration": 8,
    "start_time": "2022-12-20T20:53:04.412Z"
   },
   {
    "duration": 6,
    "start_time": "2022-12-20T20:53:04.422Z"
   },
   {
    "duration": 5,
    "start_time": "2022-12-20T20:53:04.430Z"
   },
   {
    "duration": 7,
    "start_time": "2022-12-20T20:53:26.493Z"
   },
   {
    "duration": 9,
    "start_time": "2022-12-20T20:56:11.564Z"
   },
   {
    "duration": 6,
    "start_time": "2022-12-20T20:56:15.937Z"
   },
   {
    "duration": 6,
    "start_time": "2022-12-20T20:59:03.667Z"
   },
   {
    "duration": 73,
    "start_time": "2022-12-20T20:59:51.583Z"
   },
   {
    "duration": 68,
    "start_time": "2022-12-20T21:00:15.817Z"
   },
   {
    "duration": 8,
    "start_time": "2022-12-20T21:00:22.195Z"
   },
   {
    "duration": 5,
    "start_time": "2022-12-20T21:00:26.952Z"
   },
   {
    "duration": 6,
    "start_time": "2022-12-20T21:00:44.663Z"
   },
   {
    "duration": 5,
    "start_time": "2022-12-20T21:01:09.814Z"
   }
  ],
  "colab": {
   "collapsed_sections": [
    "E0vqbgi9ay0H",
    "VUC88oWjTJw2"
   ],
   "name": "automatization_template_upd4.ipynb",
   "provenance": []
  },
  "kernelspec": {
   "display_name": "Python 3 (ipykernel)",
   "language": "python",
   "name": "python3"
  },
  "language_info": {
   "codemirror_mode": {
    "name": "ipython",
    "version": 3
   },
   "file_extension": ".py",
   "mimetype": "text/x-python",
   "name": "python",
   "nbconvert_exporter": "python",
   "pygments_lexer": "ipython3",
   "version": "3.9.5"
  },
  "toc": {
   "base_numbering": 1,
   "nav_menu": {
    "height": "215px",
    "width": "403px"
   },
   "number_sections": true,
   "sideBar": true,
   "skip_h1_title": true,
   "title_cell": "Table of Contents",
   "title_sidebar": "Contents",
   "toc_cell": false,
   "toc_position": {
    "height": "calc(100% - 180px)",
    "left": "10px",
    "top": "150px",
    "width": "285.825px"
   },
   "toc_section_display": true,
   "toc_window_display": false
  }
 },
 "nbformat": 4,
 "nbformat_minor": 1
}